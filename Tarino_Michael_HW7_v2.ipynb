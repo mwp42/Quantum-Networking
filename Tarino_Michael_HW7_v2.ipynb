{
 "cells": [
  {
   "cell_type": "markdown",
   "id": "77b20bcb",
   "metadata": {},
   "source": [
    "# PEP 558 - Homework #7"
   ]
  },
  {
   "cell_type": "markdown",
   "id": "86a351d9",
   "metadata": {},
   "source": [
    "## Superdense Coding"
   ]
  },
  {
   "cell_type": "markdown",
   "id": "b3ae3534",
   "metadata": {},
   "source": [
    "## Problem 1"
   ]
  },
  {
   "cell_type": "markdown",
   "id": "cf17f5a3",
   "metadata": {},
   "source": [
    "## Circuit Input: |01>"
   ]
  },
  {
   "cell_type": "raw",
   "id": "089d8a42",
   "metadata": {},
   "source": [
    "OPENQASM 2.0;\n",
    "include \"qelib1.inc\";\n",
    "\n",
    "qreg q[2];\n",
    "creg c[2];\n",
    "\n",
    "\n",
    "x q[1];\n",
    "barrier q[0], q[1];\n",
    "h q[0];\n",
    "cx q[0], q[1];\n",
    "barrier q[0], q[1];\n",
    "barrier q[0], q[1];\n",
    "z q[0];\n",
    "barrier q[0], q[1];\n",
    "barrier q[0], q[1];\n",
    "cx q[0], q[1];\n",
    "h q[0];\n",
    "barrier q[0], q[1];\n",
    "\n",
    "measure q[0] -> c[0];\n",
    "measure q[1] -> c[1];\n",
    "barrier q[0], q[1];"
   ]
  },
  {
   "cell_type": "markdown",
   "id": "25527e1e",
   "metadata": {},
   "source": [
    "### QISKIT Code"
   ]
  },
  {
   "cell_type": "code",
   "execution_count": 2,
   "id": "7fa07040",
   "metadata": {},
   "outputs": [
    {
     "data": {
      "text/plain": [
       "<qiskit.circuit.instructionset.InstructionSet at 0x7f7c097853a0>"
      ]
     },
     "execution_count": 2,
     "metadata": {},
     "output_type": "execute_result"
    }
   ],
   "source": [
    "#QISKIT\n",
    "from qiskit import QuantumRegister, ClassicalRegister, QuantumCircuit\n",
    "from numpy import pi\n",
    "\n",
    "qreg_q = QuantumRegister(2, 'q')\n",
    "creg_c = ClassicalRegister(2, 'c')\n",
    "circuit = QuantumCircuit(qreg_q, creg_c)\n",
    "\n",
    "circuit.x(qreg_q[1])\n",
    "circuit.barrier(qreg_q[0], qreg_q[1])\n",
    "circuit.h(qreg_q[0])\n",
    "circuit.cx(qreg_q[0], qreg_q[1])\n",
    "circuit.barrier(qreg_q[0], qreg_q[1])\n",
    "circuit.barrier(qreg_q[0], qreg_q[1])\n",
    "circuit.z(qreg_q[0])\n",
    "circuit.barrier(qreg_q[0], qreg_q[1])\n",
    "circuit.barrier(qreg_q[0], qreg_q[1])\n",
    "circuit.cx(qreg_q[0], qreg_q[1])\n",
    "circuit.h(qreg_q[0])\n",
    "circuit.barrier(qreg_q[0], qreg_q[1])\n",
    "circuit.measure(qreg_q[0], creg_c[0])\n",
    "circuit.measure(qreg_q[1], creg_c[1])\n",
    "circuit.barrier(qreg_q[0], qreg_q[1])"
   ]
  },
  {
   "cell_type": "code",
   "execution_count": 3,
   "id": "8ccb743c",
   "metadata": {},
   "outputs": [
    {
     "data": {
      "text/html": [
       "<pre style=\"word-wrap: normal;white-space: pre;background: #fff0;line-height: 1.1;font-family: &quot;Courier New&quot;,Courier,monospace\">           ░ ┌───┐      ░  ░ ┌───┐ ░  ░      ┌───┐ ░ ┌─┐    ░ \n",
       "q_0: ──────░─┤ H ├──■───░──░─┤ Z ├─░──░───■──┤ H ├─░─┤M├────░─\n",
       "     ┌───┐ ░ └───┘┌─┴─┐ ░  ░ └───┘ ░  ░ ┌─┴─┐└───┘ ░ └╥┘┌─┐ ░ \n",
       "q_1: ┤ X ├─░──────┤ X ├─░──░───────░──░─┤ X ├──────░──╫─┤M├─░─\n",
       "     └───┘ ░      └───┘ ░  ░       ░  ░ └───┘      ░  ║ └╥┘ ░ \n",
       "c: 2/═════════════════════════════════════════════════╩══╩════\n",
       "                                                      0  1    </pre>"
      ],
      "text/plain": [
       "           ░ ┌───┐      ░  ░ ┌───┐ ░  ░      ┌───┐ ░ ┌─┐    ░ \n",
       "q_0: ──────░─┤ H ├──■───░──░─┤ Z ├─░──░───■──┤ H ├─░─┤M├────░─\n",
       "     ┌───┐ ░ └───┘┌─┴─┐ ░  ░ └───┘ ░  ░ ┌─┴─┐└───┘ ░ └╥┘┌─┐ ░ \n",
       "q_1: ┤ X ├─░──────┤ X ├─░──░───────░──░─┤ X ├──────░──╫─┤M├─░─\n",
       "     └───┘ ░      └───┘ ░  ░       ░  ░ └───┘      ░  ║ └╥┘ ░ \n",
       "c: 2/═════════════════════════════════════════════════╩══╩════\n",
       "                                                      0  1    "
      ]
     },
     "execution_count": 3,
     "metadata": {},
     "output_type": "execute_result"
    }
   ],
   "source": [
    "circuit.draw()"
   ]
  },
  {
   "cell_type": "markdown",
   "id": "6b938778",
   "metadata": {},
   "source": [
    "### IBM Quantum Composer output:"
   ]
  },
  {
   "cell_type": "markdown",
   "id": "c94ec7dd",
   "metadata": {},
   "source": [
    "|11>"
   ]
  },
  {
   "cell_type": "markdown",
   "id": "ea4b4adf",
   "metadata": {},
   "source": [
    "### AER Simulator"
   ]
  },
  {
   "cell_type": "code",
   "execution_count": 4,
   "id": "984562d8",
   "metadata": {},
   "outputs": [
    {
     "name": "stdout",
     "output_type": "stream",
     "text": [
      "Result(backend_name='qasm_simulator', backend_version='0.11.2', qobj_id='f1b5eb50-f787-40c7-baeb-49955d402f66', job_id='d7eb2c4e-35a1-42ee-a8f6-a93f7ef27d5a', success=True, results=[ExperimentResult(shots=1024, success=True, meas_level=2, data=ExperimentResultData(counts={'0x3': 1024}), header=QobjExperimentHeader(clbit_labels=[['c', 0], ['c', 1]], creg_sizes=[['c', 2]], global_phase=0.0, memory_slots=2, metadata={}, n_qubits=2, name='circuit-85', qreg_sizes=[['q', 2]], qubit_labels=[['q', 0], ['q', 1]]), status=DONE, seed_simulator=2051003287, metadata={'parallel_state_update': 8, 'parallel_shots': 1, 'sample_measure_time': 0.001015667, 'noise': 'ideal', 'batched_shots_optimization': False, 'remapped_qubits': False, 'device': 'CPU', 'active_input_qubits': [0, 1], 'measure_sampling': True, 'num_clbits': 2, 'input_qubit_map': [[1, 1], [0, 0]], 'num_qubits': 2, 'method': 'stabilizer', 'fusion': {'enabled': False}}, time_taken=0.002365083)], date=2023-03-13T15:13:07.025448, status=COMPLETED, header=QobjHeader(backend_name='qasm_simulator', backend_version='0.11.2'), metadata={'mpi_rank': 0, 'num_mpi_processes': 1, 'num_processes_per_experiments': 1, 'time_taken': 0.002506125, 'max_gpu_memory_mb': 0, 'time_taken_execute': 0.002378833, 'max_memory_mb': 16384, 'time_taken_load_qobj': 0.000111917, 'parallel_experiments': 1, 'omp_enabled': True}, time_taken=0.002668142318725586)\n"
     ]
    }
   ],
   "source": [
    "# As we can see, the circuit is now built according to the image. We can now measure the qubit at the quantum register.\n",
    "# For this we have two methods, AER(quantum computer simulator) and IBMQ (IBM's quantum computer)\n",
    "\n",
    "#AER\n",
    "from qiskit.providers.aer import QasmSimulator\n",
    "backend= QasmSimulator()\n",
    "job = backend.run(circuit,shots=1024)\n",
    "result = job.result()\n",
    "print(result)\n",
    "\n",
    "\n",
    "\n"
   ]
  },
  {
   "cell_type": "code",
   "execution_count": 5,
   "id": "43c99a00",
   "metadata": {},
   "outputs": [
    {
     "data": {
      "image/png": "[encoded data removed]",
      "text/plain": [
       "<Figure size 700x500 with 1 Axes>"
      ]
     },
     "execution_count": 5,
     "metadata": {},
     "output_type": "execute_result"
    }
   ],
   "source": [
    "# We can plot a histogram to see the values\n",
    "from qiskit.visualization import plot_histogram\n",
    "counts = result.get_counts(circuit)\n",
    "plot_histogram(counts)\n"
   ]
  },
  {
   "cell_type": "code",
   "execution_count": 6,
   "id": "5243c0e4",
   "metadata": {},
   "outputs": [
    {
     "name": "stdout",
     "output_type": "stream",
     "text": [
      "{'11': 1024}\n"
     ]
    }
   ],
   "source": [
    "# Let us see the counts\n",
    "print(counts)\n"
   ]
  },
  {
   "cell_type": "markdown",
   "id": "db6692e8",
   "metadata": {},
   "source": [
    "### IBMQ"
   ]
  },
  {
   "cell_type": "code",
   "execution_count": 7,
   "id": "6fe7446d",
   "metadata": {},
   "outputs": [
    {
     "name": "stdout",
     "output_type": "stream",
     "text": [
      "['ibmq_qasm_simulator', 'ibmq_lima', 'ibmq_belem', 'ibmq_quito', 'simulator_statevector', 'simulator_mps', 'simulator_extended_stabilizer', 'simulator_stabilizer', 'ibmq_jakarta', 'ibmq_manila', 'ibm_lagos', 'ibm_nairobi', 'ibm_perth', 'ibm_oslo']\n",
      "Job Status: job is queued (48)    "
     ]
    },
    {
     "ename": "KeyboardInterrupt",
     "evalue": "",
     "output_type": "error",
     "traceback": [
      "\u001b[0;31m---------------------------------------------------------------------------\u001b[0m",
      "\u001b[0;31mKeyboardInterrupt\u001b[0m                         Traceback (most recent call last)",
      "\u001b[0;32m/var/folders/s4/bq91h9497g3cryvmqrky86hc0000gn/T/ipykernel_76976/2250228344.py\u001b[0m in \u001b[0;36m<module>\u001b[0;34m\u001b[0m\n\u001b[1;32m     25\u001b[0m \u001b[0mbackend\u001b[0m \u001b[0;34m=\u001b[0m \u001b[0mprovider\u001b[0m\u001b[0;34m.\u001b[0m\u001b[0mget_backend\u001b[0m\u001b[0;34m(\u001b[0m\u001b[0;34m'ibmq_lima'\u001b[0m\u001b[0;34m)\u001b[0m\u001b[0;34m\u001b[0m\u001b[0;34m\u001b[0m\u001b[0m\n\u001b[1;32m     26\u001b[0m \u001b[0mjob\u001b[0m \u001b[0;34m=\u001b[0m \u001b[0mexecute\u001b[0m\u001b[0;34m(\u001b[0m\u001b[0mcircuit\u001b[0m\u001b[0;34m,\u001b[0m \u001b[0mbackend\u001b[0m\u001b[0;34m=\u001b[0m\u001b[0mbackend\u001b[0m\u001b[0;34m,\u001b[0m \u001b[0mshots\u001b[0m\u001b[0;34m=\u001b[0m\u001b[0;36m100\u001b[0m\u001b[0;34m)\u001b[0m\u001b[0;34m\u001b[0m\u001b[0;34m\u001b[0m\u001b[0m\n\u001b[0;32m---> 27\u001b[0;31m \u001b[0mjob_monitor\u001b[0m\u001b[0;34m(\u001b[0m\u001b[0mjob\u001b[0m\u001b[0;34m)\u001b[0m\u001b[0;34m\u001b[0m\u001b[0;34m\u001b[0m\u001b[0m\n\u001b[0m\u001b[1;32m     28\u001b[0m \u001b[0mresults\u001b[0m \u001b[0;34m=\u001b[0m \u001b[0mjob\u001b[0m\u001b[0;34m.\u001b[0m\u001b[0mresult\u001b[0m\u001b[0;34m(\u001b[0m\u001b[0;34m)\u001b[0m\u001b[0;34m\u001b[0m\u001b[0;34m\u001b[0m\u001b[0m\n",
      "\u001b[0;32m~/opt/anaconda3/lib/python3.9/site-packages/qiskit/tools/monitor/job_monitor.py\u001b[0m in \u001b[0;36mjob_monitor\u001b[0;34m(job, interval, quiet, output, line_discipline)\u001b[0m\n\u001b[1;32m     87\u001b[0m         \u001b[0m_interval_set\u001b[0m \u001b[0;34m=\u001b[0m \u001b[0;32mTrue\u001b[0m\u001b[0;34m\u001b[0m\u001b[0;34m\u001b[0m\u001b[0m\n\u001b[1;32m     88\u001b[0m \u001b[0;34m\u001b[0m\u001b[0m\n\u001b[0;32m---> 89\u001b[0;31m     _text_checker(\n\u001b[0m\u001b[1;32m     90\u001b[0m         \u001b[0mjob\u001b[0m\u001b[0;34m,\u001b[0m \u001b[0minterval\u001b[0m\u001b[0;34m,\u001b[0m \u001b[0m_interval_set\u001b[0m\u001b[0;34m,\u001b[0m \u001b[0mquiet\u001b[0m\u001b[0;34m=\u001b[0m\u001b[0mquiet\u001b[0m\u001b[0;34m,\u001b[0m \u001b[0moutput\u001b[0m\u001b[0;34m=\u001b[0m\u001b[0moutput\u001b[0m\u001b[0;34m,\u001b[0m \u001b[0mline_discipline\u001b[0m\u001b[0;34m=\u001b[0m\u001b[0mline_discipline\u001b[0m\u001b[0;34m\u001b[0m\u001b[0;34m\u001b[0m\u001b[0m\n\u001b[1;32m     91\u001b[0m     )\n",
      "\u001b[0;32m~/opt/anaconda3/lib/python3.9/site-packages/qiskit/tools/monitor/job_monitor.py\u001b[0m in \u001b[0;36m_text_checker\u001b[0;34m(job, interval, _interval_set, quiet, output, line_discipline)\u001b[0m\n\u001b[1;32m     42\u001b[0m         \u001b[0mprint\u001b[0m\u001b[0;34m(\u001b[0m\u001b[0;34m\"{}{}: {}\"\u001b[0m\u001b[0;34m.\u001b[0m\u001b[0mformat\u001b[0m\u001b[0;34m(\u001b[0m\u001b[0mline_discipline\u001b[0m\u001b[0;34m,\u001b[0m \u001b[0;34m\"Job Status\"\u001b[0m\u001b[0;34m,\u001b[0m \u001b[0mmsg\u001b[0m\u001b[0;34m)\u001b[0m\u001b[0;34m,\u001b[0m \u001b[0mend\u001b[0m\u001b[0;34m=\u001b[0m\u001b[0;34m\"\"\u001b[0m\u001b[0;34m,\u001b[0m \u001b[0mfile\u001b[0m\u001b[0;34m=\u001b[0m\u001b[0moutput\u001b[0m\u001b[0;34m)\u001b[0m\u001b[0;34m\u001b[0m\u001b[0;34m\u001b[0m\u001b[0m\n\u001b[1;32m     43\u001b[0m     \u001b[0;32mwhile\u001b[0m \u001b[0mstatus\u001b[0m\u001b[0;34m.\u001b[0m\u001b[0mname\u001b[0m \u001b[0;32mnot\u001b[0m \u001b[0;32min\u001b[0m \u001b[0;34m[\u001b[0m\u001b[0;34m\"DONE\"\u001b[0m\u001b[0;34m,\u001b[0m \u001b[0;34m\"CANCELLED\"\u001b[0m\u001b[0;34m,\u001b[0m \u001b[0;34m\"ERROR\"\u001b[0m\u001b[0;34m]\u001b[0m\u001b[0;34m:\u001b[0m\u001b[0;34m\u001b[0m\u001b[0;34m\u001b[0m\u001b[0m\n\u001b[0;32m---> 44\u001b[0;31m         \u001b[0mtime\u001b[0m\u001b[0;34m.\u001b[0m\u001b[0msleep\u001b[0m\u001b[0;34m(\u001b[0m\u001b[0minterval\u001b[0m\u001b[0;34m)\u001b[0m\u001b[0;34m\u001b[0m\u001b[0;34m\u001b[0m\u001b[0m\n\u001b[0m\u001b[1;32m     45\u001b[0m         \u001b[0mstatus\u001b[0m \u001b[0;34m=\u001b[0m \u001b[0mjob\u001b[0m\u001b[0;34m.\u001b[0m\u001b[0mstatus\u001b[0m\u001b[0;34m(\u001b[0m\u001b[0;34m)\u001b[0m\u001b[0;34m\u001b[0m\u001b[0;34m\u001b[0m\u001b[0m\n\u001b[1;32m     46\u001b[0m         \u001b[0mmsg\u001b[0m \u001b[0;34m=\u001b[0m \u001b[0mstatus\u001b[0m\u001b[0;34m.\u001b[0m\u001b[0mvalue\u001b[0m\u001b[0;34m\u001b[0m\u001b[0;34m\u001b[0m\u001b[0m\n",
      "\u001b[0;31mKeyboardInterrupt\u001b[0m: "
     ]
    }
   ],
   "source": [
    "#IBMQ\n",
    "\n",
    "# Now let us see the working of this circuit on a real quantum machine.\n",
    "# Note: You need to create an IBMQ account before proceeding.\n",
    "from qiskit import *\n",
    "from qiskit import IBMQ\n",
    "\n",
    "# This step is for first time users.\n",
    "# 'IBMQ.save_account(TOKEN)'\n",
    "# For this token, visit https://quantum-computing.ibm.com/ create an account with any email id\n",
    "# and login to view the token and copy it.\n",
    "\n",
    "# This step is after you have created and saved your account.\n",
    "IBMQ.load_account()\n",
    "\n",
    "# To view all the poviders\n",
    "print([backend.name() for backend in IBMQ.providers()[0].backends()])\n",
    "\n",
    "\n",
    "\n",
    "\n",
    "# We can select any provider, but ibmq_manila will work.\n",
    "from qiskit.tools.monitor import job_monitor\n",
    "provider = IBMQ.get_provider(hub = 'ibm-q',group = 'open',project='main')\n",
    "backend = provider.get_backend('ibmq_lima')\n",
    "job = execute(circuit, backend=backend, shots=100)\n",
    "job_monitor(job)\n",
    "results = job.result()\n"
   ]
  },
  {
   "cell_type": "code",
   "execution_count": null,
   "id": "27e7547b",
   "metadata": {},
   "outputs": [],
   "source": [
    "# Plot histogram of the outputs recieved.\n",
    "counts = results.get_counts(circuit)\n",
    "plot_histogram(counts)"
   ]
  },
  {
   "cell_type": "code",
   "execution_count": 12,
   "id": "97ae947a",
   "metadata": {},
   "outputs": [
    {
     "name": "stdout",
     "output_type": "stream",
     "text": [
      "Job Status: job has successfully run\n"
     ]
    }
   ],
   "source": [
    "#IBM Q Alternative Code (from Prudhvi):\n",
    "\n",
    "# get the least-busy backend at IBM and run the quantum circuit there\n",
    "\n",
    "from qiskit.providers.ibmq import least_busy\n",
    "from qiskit.tools.monitor import job_monitor\n",
    "backend = least_busy(provider.backends(filters=lambda b: b.configuration().n_qubits >= 3 and\n",
    "                                   not b.configuration().simulator and b.status().operational==True))\n",
    "\n",
    "t_qc = transpile(circuit, backend, optimization_level=3)\n",
    "job = backend.run(t_qc)\n",
    "job_monitor(job)  # displays job status under cell\n",
    "\n",
    "\n"
   ]
  },
  {
   "cell_type": "code",
   "execution_count": 13,
   "id": "629b5130",
   "metadata": {},
   "outputs": [
    {
     "name": "stdout",
     "output_type": "stream",
     "text": [
      "{'00': 59, '01': 418, '10': 219, '11': 3304}\n"
     ]
    },
    {
     "data": {
      "image/png": "[encoded data removed]",
      "text/plain": [
       "<Figure size 700x500 with 1 Axes>"
      ]
     },
     "execution_count": 13,
     "metadata": {},
     "output_type": "execute_result"
    }
   ],
   "source": [
    "exp_result = job.result()\n",
    "exp_counts = exp_result.get_counts(circuit)\n",
    "print(exp_counts)\n",
    "plot_histogram(exp_counts)\n"
   ]
  },
  {
   "cell_type": "markdown",
   "id": "af74e503",
   "metadata": {},
   "source": [
    "## NOT YET UPDATED:"
   ]
  },
  {
   "cell_type": "markdown",
   "id": "441ca4d3",
   "metadata": {},
   "source": [
    "## Circuit Input: |10>"
   ]
  },
  {
   "cell_type": "raw",
   "id": "8f201878",
   "metadata": {},
   "source": [
    "#QASM\n",
    "OPENQASM 2.0;\n",
    "include \"qelib1.inc\";\n",
    "\n",
    "qreg q[3];\n",
    "creg xc[1];\n",
    "creg zc[1];\n",
    "creg c0[1];\n",
    "\n",
    "x q[1];\n",
    "barrier q[0], q[1], q[2];\n",
    "h q[1];\n",
    "cx q[1], q[2];\n",
    "cx q[0], q[1];\n",
    "h q[0];\n",
    "barrier q[0], q[1], q[2];\n",
    "\n",
    "measure q[0] -> zc[0];\n",
    "measure q[1] -> xc[0];\n",
    "barrier q[0], q[1], q[2];\n",
    "if (xc == 1) x q[2];\n",
    "if (zc == 1) z q[2];\n",
    "barrier q[0], q[1], q[2];\n",
    "measure q[2] -> c0[0];"
   ]
  },
  {
   "cell_type": "markdown",
   "id": "eb85856f",
   "metadata": {},
   "source": [
    "### QISKIT Code"
   ]
  },
  {
   "cell_type": "code",
   "execution_count": 6,
   "id": "38aa3c4b",
   "metadata": {},
   "outputs": [
    {
     "data": {
      "text/plain": [
       "<qiskit.circuit.instructionset.InstructionSet at 0x7fc3cb7278e0>"
      ]
     },
     "execution_count": 6,
     "metadata": {},
     "output_type": "execute_result"
    }
   ],
   "source": [
    "#QISKIT\n",
    "from qiskit import QuantumRegister, ClassicalRegister, QuantumCircuit\n",
    "from numpy import pi\n",
    "\n",
    "qreg_q = QuantumRegister(3, 'q')\n",
    "creg_xc = ClassicalRegister(1, 'xc')\n",
    "creg_zc = ClassicalRegister(1, 'zc')\n",
    "creg_c0 = ClassicalRegister(1, 'c0')\n",
    "circuit = QuantumCircuit(qreg_q, creg_xc, creg_zc, creg_c0)\n",
    "\n",
    "circuit.x(qreg_q[1])\n",
    "circuit.barrier(qreg_q[0], qreg_q[1], qreg_q[2])\n",
    "circuit.h(qreg_q[1])\n",
    "circuit.cx(qreg_q[1], qreg_q[2])\n",
    "circuit.cx(qreg_q[0], qreg_q[1])\n",
    "circuit.h(qreg_q[0])\n",
    "circuit.barrier(qreg_q[0], qreg_q[1], qreg_q[2])\n",
    "circuit.measure(qreg_q[0], creg_zc[0])\n",
    "circuit.measure(qreg_q[1], creg_xc[0])\n",
    "circuit.barrier(qreg_q[0], qreg_q[1], qreg_q[2])\n",
    "circuit.x(qreg_q[2]).c_if(creg_xc, 1)\n",
    "circuit.z(qreg_q[2]).c_if(creg_zc, 1)\n",
    "circuit.barrier(qreg_q[0], qreg_q[1], qreg_q[2])\n",
    "circuit.measure(qreg_q[2], creg_c0[0])"
   ]
  },
  {
   "cell_type": "code",
   "execution_count": 7,
   "id": "91dfb0c3",
   "metadata": {},
   "outputs": [],
   "source": [
    "# remember to convert circuit -> quantum_circuit"
   ]
  },
  {
   "cell_type": "code",
   "execution_count": 8,
   "id": "ef11994c",
   "metadata": {},
   "outputs": [
    {
     "data": {
      "text/html": [
       "<pre style=\"word-wrap: normal;white-space: pre;background: #fff0;line-height: 1.1;font-family: &quot;Courier New&quot;,Courier,monospace\">            ░                ┌───┐ ░ ┌─┐    ░                ░    \n",
       " q_0: ──────░─────────────■──┤ H ├─░─┤M├────░────────────────░────\n",
       "      ┌───┐ ░ ┌───┐     ┌─┴─┐└───┘ ░ └╥┘┌─┐ ░                ░    \n",
       " q_1: ┤ X ├─░─┤ H ├──■──┤ X ├──────░──╫─┤M├─░────────────────░────\n",
       "      └───┘ ░ └───┘┌─┴─┐└───┘      ░  ║ └╥┘ ░  ┌───┐  ┌───┐  ░ ┌─┐\n",
       " q_2: ──────░──────┤ X ├───────────░──╫──╫──░──┤ X ├──┤ Z ├──░─┤M├\n",
       "            ░      └───┘           ░  ║  ║  ░  └─╥─┘  └─╥─┘  ░ └╥┘\n",
       "                                      ║  ║    ┌──╨──┐   ║       ║ \n",
       "xc: 1/════════════════════════════════╬══╩════╡ 0x1 ╞═══╬═══════╬═\n",
       "                                      ║  0    └─────┘┌──╨──┐    ║ \n",
       "zc: 1/════════════════════════════════╩══════════════╡ 0x1 ╞════╬═\n",
       "                                      0              └─────┘    ║ \n",
       "c0: 1/══════════════════════════════════════════════════════════╩═\n",
       "                                                                0 </pre>"
      ],
      "text/plain": [
       "            ░                ┌───┐ ░ ┌─┐    ░                ░    \n",
       " q_0: ──────░─────────────■──┤ H ├─░─┤M├────░────────────────░────\n",
       "      ┌───┐ ░ ┌───┐     ┌─┴─┐└───┘ ░ └╥┘┌─┐ ░                ░    \n",
       " q_1: ┤ X ├─░─┤ H ├──■──┤ X ├──────░──╫─┤M├─░────────────────░────\n",
       "      └───┘ ░ └───┘┌─┴─┐└───┘      ░  ║ └╥┘ ░  ┌───┐  ┌───┐  ░ ┌─┐\n",
       " q_2: ──────░──────┤ X ├───────────░──╫──╫──░──┤ X ├──┤ Z ├──░─┤M├\n",
       "            ░      └───┘           ░  ║  ║  ░  └─╥─┘  └─╥─┘  ░ └╥┘\n",
       "                                      ║  ║    ┌──╨──┐   ║       ║ \n",
       "xc: 1/════════════════════════════════╬══╩════╡ 0x1 ╞═══╬═══════╬═\n",
       "                                      ║  0    └─────┘┌──╨──┐    ║ \n",
       "zc: 1/════════════════════════════════╩══════════════╡ 0x1 ╞════╬═\n",
       "                                      0              └─────┘    ║ \n",
       "c0: 1/══════════════════════════════════════════════════════════╩═\n",
       "                                                                0 "
      ]
     },
     "execution_count": 8,
     "metadata": {},
     "output_type": "execute_result"
    }
   ],
   "source": [
    "circuit.draw()"
   ]
  },
  {
   "cell_type": "markdown",
   "id": "16c09323",
   "metadata": {},
   "source": [
    "### IBM Quantum Composer output:"
   ]
  },
  {
   "cell_type": "markdown",
   "id": "b1adc8fa",
   "metadata": {},
   "source": [
    "|010>"
   ]
  },
  {
   "cell_type": "markdown",
   "id": "ef433456",
   "metadata": {},
   "source": [
    "### Aer Simulator"
   ]
  },
  {
   "cell_type": "code",
   "execution_count": 9,
   "id": "c03e4476",
   "metadata": {},
   "outputs": [
    {
     "name": "stdout",
     "output_type": "stream",
     "text": [
      "Result(backend_name='qasm_simulator', backend_version='0.11.2', qobj_id='02b976c2-364e-418d-a5a5-0a71f71f6c37', job_id='65856721-0c26-427a-89e9-8676f076a3f3', success=True, results=[ExperimentResult(shots=1024, success=True, meas_level=2, data=ExperimentResultData(counts={'0x1': 274, '0x2': 267, '0x3': 251, '0x0': 232}), header=QobjExperimentHeader(clbit_labels=[['xc', 0], ['zc', 0], ['c0', 0]], creg_sizes=[['xc', 1], ['zc', 1], ['c0', 1]], global_phase=0.0, memory_slots=3, metadata={}, n_qubits=3, name='circuit-89', qreg_sizes=[['q', 3]], qubit_labels=[['q', 0], ['q', 1], ['q', 2]]), status=DONE, seed_simulator=376310127, metadata={'noise': 'ideal', 'batched_shots_optimization': False, 'remapped_qubits': False, 'parallel_state_update': 1, 'parallel_shots': 8, 'device': 'CPU', 'active_input_qubits': [0, 1, 2], 'measure_sampling': False, 'num_clbits': 3, 'input_qubit_map': [[2, 2], [1, 1], [0, 0]], 'num_qubits': 3, 'method': 'stabilizer', 'fusion': {'enabled': False}}, time_taken=0.040054917)], date=2023-03-02T18:19:21.449525, status=COMPLETED, header=QobjHeader(backend_name='qasm_simulator', backend_version='0.11.2'), metadata={'mpi_rank': 0, 'num_mpi_processes': 1, 'num_processes_per_experiments': 1, 'time_taken': 0.040619209, 'max_gpu_memory_mb': 0, 'time_taken_execute': 0.040131042, 'max_memory_mb': 16384, 'time_taken_load_qobj': 0.000468834, 'parallel_experiments': 1, 'omp_enabled': True}, time_taken=0.04189801216125488)\n"
     ]
    }
   ],
   "source": [
    "# As we can see, the circuit is now built according to the image. We can now measure the qubit at the quantum register.\n",
    "# For this we have two methods, AER(quantum computer simulator) and IBMQ (IBM's quantum computer)\n",
    "\n",
    "#AER\n",
    "from qiskit.providers.aer import QasmSimulator\n",
    "backend = QasmSimulator()\n",
    "job = backend.run(circuit,shots=1024)\n",
    "result = job.result()\n",
    "print(result)\n",
    "\n",
    "\n",
    "\n"
   ]
  },
  {
   "cell_type": "code",
   "execution_count": 10,
   "id": "3d378b29",
   "metadata": {},
   "outputs": [
    {
     "data": {
      "image/png": "[encoded data removed]",
      "text/plain": [
       "<Figure size 700x500 with 1 Axes>"
      ]
     },
     "execution_count": 10,
     "metadata": {},
     "output_type": "execute_result"
    }
   ],
   "source": [
    "# We can plot a histogram to see the values\n",
    "from qiskit.visualization import plot_histogram\n",
    "counts = result.get_counts(circuit)\n",
    "plot_histogram(counts)\n"
   ]
  },
  {
   "cell_type": "code",
   "execution_count": 11,
   "id": "a9e44658",
   "metadata": {},
   "outputs": [
    {
     "name": "stdout",
     "output_type": "stream",
     "text": [
      "{'0 0 1': 274, '0 1 0': 267, '0 1 1': 251, '0 0 0': 232}\n"
     ]
    }
   ],
   "source": [
    "# Let us see the counts\n",
    "print(counts)\n"
   ]
  },
  {
   "cell_type": "markdown",
   "id": "52baf0a5",
   "metadata": {},
   "source": [
    "### IBMQ"
   ]
  },
  {
   "cell_type": "code",
   "execution_count": null,
   "id": "87e7bab1",
   "metadata": {},
   "outputs": [],
   "source": [
    "#IBMQ\n",
    "\n",
    "# Now let us see the working of this circuit on a real quantum machine.\n",
    "# Note: You need to create an IBMQ account before proceeding.\n",
    "from qiskit import *\n",
    "from qiskit import IBMQ\n",
    "\n",
    "# This step is for first time users.\n",
    "# 'IBMQ.save_account(TOKEN)'\n",
    "# For this token, visit https://quantum-computing.ibm.com/ create an account with any email id\n",
    "# and login to view the token and copy it.\n",
    "\n",
    "# This step is after you have created and saved your account.\n",
    "IBMQ.load_account()\n",
    "\n",
    "# To view all the poviders\n",
    "print([backend.name() for backend in IBMQ.providers()[0].backends()])\n",
    "\n",
    "\n",
    "\n",
    "\n",
    "# We can select any provider, but ibmq_manila will work.\n",
    "from qiskit.tools.monitor import job_monitor\n",
    "provider = IBMQ.get_provider(hub = 'ibm-q',group = 'open',project='main')\n",
    "backend = provider.get_backend('ibmq_lima')\n",
    "job = execute(circuit, backend=backend, shots=100)\n",
    "job_monitor(job)\n",
    "results = job.result()\n",
    "\n",
    "\n",
    "\n",
    "\n"
   ]
  },
  {
   "cell_type": "code",
   "execution_count": null,
   "id": "0d9b673f",
   "metadata": {},
   "outputs": [],
   "source": [
    "# Plot histogram of the outputs recieved.\n",
    "counts = results.get_counts(circuit)\n",
    "plot_histogram(counts)"
   ]
  },
  {
   "cell_type": "code",
   "execution_count": null,
   "id": "fc09354a",
   "metadata": {},
   "outputs": [],
   "source": []
  },
  {
   "cell_type": "code",
   "execution_count": null,
   "id": "85e3bd52",
   "metadata": {},
   "outputs": [],
   "source": []
  },
  {
   "cell_type": "markdown",
   "id": "9de1f412",
   "metadata": {},
   "source": [
    "## Circuit Input: |11>"
   ]
  },
  {
   "cell_type": "raw",
   "id": "34191bd3",
   "metadata": {},
   "source": [
    "#QASM\n",
    "OPENQASM 2.0;\n",
    "include \"qelib1.inc\";\n",
    "\n",
    "qreg q[3];\n",
    "creg xc[1];\n",
    "creg zc[1];\n",
    "creg c0[1];\n",
    "\n",
    "x q[2];\n",
    "x q[1];\n",
    "barrier q[0], q[1], q[2];\n",
    "h q[1];\n",
    "cx q[1], q[2];\n",
    "cx q[0], q[1];\n",
    "h q[0];\n",
    "barrier q[0], q[1], q[2];\n",
    "\n",
    "measure q[0] -> zc[0];\n",
    "measure q[1] -> xc[0];\n",
    "barrier q[0], q[1], q[2];\n",
    "if (xc == 1) x q[2];\n",
    "if (zc == 1) z q[2];\n",
    "barrier q[0], q[1], q[2];\n",
    "measure q[2] -> c0[0];"
   ]
  },
  {
   "cell_type": "markdown",
   "id": "e5666f06",
   "metadata": {},
   "source": [
    "### QISKIT Code"
   ]
  },
  {
   "cell_type": "code",
   "execution_count": 12,
   "id": "810388e5",
   "metadata": {},
   "outputs": [
    {
     "data": {
      "text/plain": [
       "<qiskit.circuit.instructionset.InstructionSet at 0x7fc3cb7651c0>"
      ]
     },
     "execution_count": 12,
     "metadata": {},
     "output_type": "execute_result"
    }
   ],
   "source": [
    "#QISKIT\n",
    "from qiskit import QuantumRegister, ClassicalRegister, QuantumCircuit\n",
    "from numpy import pi\n",
    "\n",
    "qreg_q = QuantumRegister(3, 'q')\n",
    "creg_xc = ClassicalRegister(1, 'xc')\n",
    "creg_zc = ClassicalRegister(1, 'zc')\n",
    "creg_c0 = ClassicalRegister(1, 'c0')\n",
    "circuit = QuantumCircuit(qreg_q, creg_xc, creg_zc, creg_c0)\n",
    "\n",
    "circuit.x(qreg_q[2])\n",
    "circuit.x(qreg_q[1])\n",
    "circuit.barrier(qreg_q[0], qreg_q[1], qreg_q[2])\n",
    "circuit.h(qreg_q[1])\n",
    "circuit.cx(qreg_q[1], qreg_q[2])\n",
    "circuit.cx(qreg_q[0], qreg_q[1])\n",
    "circuit.h(qreg_q[0])\n",
    "circuit.barrier(qreg_q[0], qreg_q[1], qreg_q[2])\n",
    "circuit.measure(qreg_q[0], creg_zc[0])\n",
    "circuit.measure(qreg_q[1], creg_xc[0])\n",
    "circuit.barrier(qreg_q[0], qreg_q[1], qreg_q[2])\n",
    "circuit.x(qreg_q[2]).c_if(creg_xc, 1)\n",
    "circuit.z(qreg_q[2]).c_if(creg_zc, 1)\n",
    "circuit.barrier(qreg_q[0], qreg_q[1], qreg_q[2])\n",
    "circuit.measure(qreg_q[2], creg_c0[0])"
   ]
  },
  {
   "cell_type": "code",
   "execution_count": null,
   "id": "5a3f57b4",
   "metadata": {},
   "outputs": [],
   "source": [
    "# remember to convert circuit -> quantum_circuit"
   ]
  },
  {
   "cell_type": "code",
   "execution_count": 13,
   "id": "14d11e96",
   "metadata": {},
   "outputs": [
    {
     "data": {
      "text/html": [
       "<pre style=\"word-wrap: normal;white-space: pre;background: #fff0;line-height: 1.1;font-family: &quot;Courier New&quot;,Courier,monospace\">            ░                ┌───┐ ░ ┌─┐    ░                ░    \n",
       " q_0: ──────░─────────────■──┤ H ├─░─┤M├────░────────────────░────\n",
       "      ┌───┐ ░ ┌───┐     ┌─┴─┐└───┘ ░ └╥┘┌─┐ ░                ░    \n",
       " q_1: ┤ X ├─░─┤ H ├──■──┤ X ├──────░──╫─┤M├─░────────────────░────\n",
       "      ├───┤ ░ └───┘┌─┴─┐└───┘      ░  ║ └╥┘ ░  ┌───┐  ┌───┐  ░ ┌─┐\n",
       " q_2: ┤ X ├─░──────┤ X ├───────────░──╫──╫──░──┤ X ├──┤ Z ├──░─┤M├\n",
       "      └───┘ ░      └───┘           ░  ║  ║  ░  └─╥─┘  └─╥─┘  ░ └╥┘\n",
       "                                      ║  ║    ┌──╨──┐   ║       ║ \n",
       "xc: 1/════════════════════════════════╬══╩════╡ 0x1 ╞═══╬═══════╬═\n",
       "                                      ║  0    └─────┘┌──╨──┐    ║ \n",
       "zc: 1/════════════════════════════════╩══════════════╡ 0x1 ╞════╬═\n",
       "                                      0              └─────┘    ║ \n",
       "c0: 1/══════════════════════════════════════════════════════════╩═\n",
       "                                                                0 </pre>"
      ],
      "text/plain": [
       "            ░                ┌───┐ ░ ┌─┐    ░                ░    \n",
       " q_0: ──────░─────────────■──┤ H ├─░─┤M├────░────────────────░────\n",
       "      ┌───┐ ░ ┌───┐     ┌─┴─┐└───┘ ░ └╥┘┌─┐ ░                ░    \n",
       " q_1: ┤ X ├─░─┤ H ├──■──┤ X ├──────░──╫─┤M├─░────────────────░────\n",
       "      ├───┤ ░ └───┘┌─┴─┐└───┘      ░  ║ └╥┘ ░  ┌───┐  ┌───┐  ░ ┌─┐\n",
       " q_2: ┤ X ├─░──────┤ X ├───────────░──╫──╫──░──┤ X ├──┤ Z ├──░─┤M├\n",
       "      └───┘ ░      └───┘           ░  ║  ║  ░  └─╥─┘  └─╥─┘  ░ └╥┘\n",
       "                                      ║  ║    ┌──╨──┐   ║       ║ \n",
       "xc: 1/════════════════════════════════╬══╩════╡ 0x1 ╞═══╬═══════╬═\n",
       "                                      ║  0    └─────┘┌──╨──┐    ║ \n",
       "zc: 1/════════════════════════════════╩══════════════╡ 0x1 ╞════╬═\n",
       "                                      0              └─────┘    ║ \n",
       "c0: 1/══════════════════════════════════════════════════════════╩═\n",
       "                                                                0 "
      ]
     },
     "execution_count": 13,
     "metadata": {},
     "output_type": "execute_result"
    }
   ],
   "source": [
    "circuit.draw()"
   ]
  },
  {
   "cell_type": "markdown",
   "id": "78f2154e",
   "metadata": {},
   "source": [
    "### IBM Quantum Composer output:"
   ]
  },
  {
   "cell_type": "markdown",
   "id": "62df4e21",
   "metadata": {},
   "source": [
    "|110>"
   ]
  },
  {
   "cell_type": "markdown",
   "id": "b23de0b2",
   "metadata": {},
   "source": [
    "### Aer Simulator"
   ]
  },
  {
   "cell_type": "code",
   "execution_count": 14,
   "id": "24f85fab",
   "metadata": {},
   "outputs": [
    {
     "name": "stdout",
     "output_type": "stream",
     "text": [
      "Result(backend_name='qasm_simulator', backend_version='0.11.2', qobj_id='3dfb4cbf-5f08-4c41-98a2-ae400418f924', job_id='97d1f828-2ac9-40fa-8667-8b5de82c962e', success=True, results=[ExperimentResult(shots=1024, success=True, meas_level=2, data=ExperimentResultData(counts={'0x7': 263, '0x4': 283, '0x6': 243, '0x5': 235}), header=QobjExperimentHeader(clbit_labels=[['xc', 0], ['zc', 0], ['c0', 0]], creg_sizes=[['xc', 1], ['zc', 1], ['c0', 1]], global_phase=0.0, memory_slots=3, metadata={}, n_qubits=3, name='circuit-90', qreg_sizes=[['q', 3]], qubit_labels=[['q', 0], ['q', 1], ['q', 2]]), status=DONE, seed_simulator=4219542601, metadata={'noise': 'ideal', 'batched_shots_optimization': False, 'remapped_qubits': False, 'parallel_state_update': 1, 'parallel_shots': 8, 'device': 'CPU', 'active_input_qubits': [0, 1, 2], 'measure_sampling': False, 'num_clbits': 3, 'input_qubit_map': [[2, 2], [1, 1], [0, 0]], 'num_qubits': 3, 'method': 'stabilizer', 'fusion': {'enabled': False}}, time_taken=0.037013625)], date=2023-03-02T18:21:23.917275, status=COMPLETED, header=QobjHeader(backend_name='qasm_simulator', backend_version='0.11.2'), metadata={'mpi_rank': 0, 'num_mpi_processes': 1, 'num_processes_per_experiments': 1, 'time_taken': 0.037424625, 'max_gpu_memory_mb': 0, 'time_taken_execute': 0.037066917, 'max_memory_mb': 16384, 'time_taken_load_qobj': 0.000341083, 'parallel_experiments': 1, 'omp_enabled': True}, time_taken=0.03845095634460449)\n"
     ]
    }
   ],
   "source": [
    "# As we can see, the circuit is now built according to the image. We can now measure the qubit at the quantum register.\n",
    "# For this we have two methods, AER(quantum computer simulator) and IBMQ (IBM's quantum computer)\n",
    "\n",
    "#AER\n",
    "from qiskit.providers.aer import QasmSimulator\n",
    "backend = QasmSimulator()\n",
    "job = backend.run(circuit,shots=1024)\n",
    "result = job.result()\n",
    "print(result)\n",
    "\n",
    "\n",
    "\n"
   ]
  },
  {
   "cell_type": "code",
   "execution_count": 15,
   "id": "52de6b7c",
   "metadata": {},
   "outputs": [
    {
     "data": {
      "image/png": "[encoded data removed]",
      "text/plain": [
       "<Figure size 700x500 with 1 Axes>"
      ]
     },
     "execution_count": 15,
     "metadata": {},
     "output_type": "execute_result"
    }
   ],
   "source": [
    "# We can plot a histogram to see the values\n",
    "from qiskit.visualization import plot_histogram\n",
    "counts = result.get_counts(circuit)\n",
    "plot_histogram(counts)\n"
   ]
  },
  {
   "cell_type": "code",
   "execution_count": 16,
   "id": "dc8733e2",
   "metadata": {},
   "outputs": [
    {
     "name": "stdout",
     "output_type": "stream",
     "text": [
      "{'1 1 1': 263, '1 0 0': 283, '1 1 0': 243, '1 0 1': 235}\n"
     ]
    }
   ],
   "source": [
    "# Let us see the counts\n",
    "print(counts)\n"
   ]
  },
  {
   "cell_type": "markdown",
   "id": "6180fc21",
   "metadata": {},
   "source": [
    "### IBMQ"
   ]
  },
  {
   "cell_type": "code",
   "execution_count": null,
   "id": "b763ccf9",
   "metadata": {},
   "outputs": [],
   "source": [
    "#IBMQ\n",
    "\n",
    "# Now let us see the working of this circuit on a real quantum machine.\n",
    "# Note: You need to create an IBMQ account before proceeding.\n",
    "from qiskit import *\n",
    "from qiskit import IBMQ\n",
    "\n",
    "# This step is for first time users.\n",
    "# 'IBMQ.save_account(TOKEN)'\n",
    "# For this token, visit https://quantum-computing.ibm.com/ create an account with any email id\n",
    "# and login to view the token and copy it.\n",
    "\n",
    "# This step is after you have created and saved your account.\n",
    "IBMQ.load_account()\n",
    "\n",
    "# To view all the poviders\n",
    "print([backend.name() for backend in IBMQ.providers()[0].backends()])\n",
    "\n",
    "\n",
    "\n",
    "\n",
    "# We can select any provider, but ibmq_manila will work.\n",
    "from qiskit.tools.monitor import job_monitor\n",
    "provider = IBMQ.get_provider(hub = 'ibm-q',group = 'open',project='main')\n",
    "backend = provider.get_backend('ibmq_lima')\n",
    "job = execute(circuit, backend=backend, shots=100)\n",
    "job_monitor(job)\n",
    "results = job.result()\n",
    "\n",
    "\n",
    "\n",
    "\n"
   ]
  },
  {
   "cell_type": "code",
   "execution_count": null,
   "id": "e7dda56e",
   "metadata": {},
   "outputs": [],
   "source": [
    "# Plot histogram of the outputs recieved.\n",
    "counts = results.get_counts(circuit)\n",
    "plot_histogram(counts)"
   ]
  }
 ],
 "metadata": {
  "interpreter": {
   "hash": "37a42aaa31cc67f1bd04bce9cdd9af29f0bea779c6cd9677f08a81b83d4d2488"
  },
  "kernelspec": {
   "display_name": "Python 3 (ipykernel)",
   "language": "python",
   "name": "python3"
  },
  "language_info": {
   "codemirror_mode": {
    "name": "ipython",
    "version": 3
   },
   "file_extension": ".py",
   "mimetype": "text/x-python",
   "name": "python",
   "nbconvert_exporter": "python",
   "pygments_lexer": "ipython3",
   "version": "3.9.13"
  }
 },
 "nbformat": 4,
 "nbformat_minor": 5
}
