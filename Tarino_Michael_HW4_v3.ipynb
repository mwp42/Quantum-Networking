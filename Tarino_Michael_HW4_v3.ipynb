{
 "cells": [
  {
   "cell_type": "markdown",
   "id": "77b20bcb",
   "metadata": {},
   "source": [
    "# PEP 558 - Homework #4"
   ]
  },
  {
   "cell_type": "markdown",
   "id": "b3ae3534",
   "metadata": {},
   "source": [
    "## Problem 11"
   ]
  },
  {
   "cell_type": "markdown",
   "id": "cf17f5a3",
   "metadata": {},
   "source": [
    "## Circuit 1"
   ]
  },
  {
   "cell_type": "raw",
   "id": "089d8a42",
   "metadata": {},
   "source": [
    "#QASM\n",
    "OPENQASM 2.0;\n",
    "include \"qelib1.inc\";\n",
    "qreg q[2];\n",
    "creg c[2];\n",
    "x q[1];\n",
    "barrier q[0], q[1];\n",
    "h q[0];\n",
    "barrier q[0], q[1];\n",
    "cx q[0], q[1];\n",
    "barrier q[0], q[1];\n",
    "measure q[1] -> c[1];\n",
    "measure q[0] -> c[0];"
   ]
  },
  {
   "cell_type": "markdown",
   "id": "25527e1e",
   "metadata": {},
   "source": [
    "### QISKIT Code"
   ]
  },
  {
   "cell_type": "code",
   "execution_count": 1,
   "id": "7fa07040",
   "metadata": {},
   "outputs": [
    {
     "data": {
      "text/plain": [
       "<qiskit.circuit.instructionset.InstructionSet at 0x7f81f1bc75b0>"
      ]
     },
     "execution_count": 1,
     "metadata": {},
     "output_type": "execute_result"
    }
   ],
   "source": [
    "#QISKIT\n",
    "from qiskit import QuantumRegister, ClassicalRegister, QuantumCircuit\n",
    "from numpy import pi\n",
    "\n",
    "qreg_q = QuantumRegister(2, 'q')\n",
    "creg_c = ClassicalRegister(2, 'c')\n",
    "quantum_circuit = QuantumCircuit(qreg_q, creg_c)\n",
    "\n",
    "quantum_circuit.x(qreg_q[1])\n",
    "quantum_circuit.barrier(qreg_q[0], qreg_q[1])\n",
    "quantum_circuit.h(qreg_q[0])\n",
    "quantum_circuit.barrier(qreg_q[0], qreg_q[1])\n",
    "quantum_circuit.cx(qreg_q[0], qreg_q[1])\n",
    "quantum_circuit.barrier(qreg_q[0], qreg_q[1])\n",
    "quantum_circuit.measure(qreg_q[1], creg_c[1])\n",
    "quantum_circuit.measure(qreg_q[0], creg_c[0])"
   ]
  },
  {
   "cell_type": "code",
   "execution_count": 2,
   "id": "8ccb743c",
   "metadata": {},
   "outputs": [
    {
     "data": {
      "text/html": [
       "<pre style=\"word-wrap: normal;white-space: pre;background: #fff0;line-height: 1.1;font-family: &quot;Courier New&quot;,Courier,monospace\">           ░ ┌───┐ ░       ░    ┌─┐\n",
       "q_0: ──────░─┤ H ├─░───■───░────┤M├\n",
       "     ┌───┐ ░ └───┘ ░ ┌─┴─┐ ░ ┌─┐└╥┘\n",
       "q_1: ┤ X ├─░───────░─┤ X ├─░─┤M├─╫─\n",
       "     └───┘ ░       ░ └───┘ ░ └╥┘ ║ \n",
       "c: 2/═════════════════════════╩══╩═\n",
       "                              1  0 </pre>"
      ],
      "text/plain": [
       "           ░ ┌───┐ ░       ░    ┌─┐\n",
       "q_0: ──────░─┤ H ├─░───■───░────┤M├\n",
       "     ┌───┐ ░ └───┘ ░ ┌─┴─┐ ░ ┌─┐└╥┘\n",
       "q_1: ┤ X ├─░───────░─┤ X ├─░─┤M├─╫─\n",
       "     └───┘ ░       ░ └───┘ ░ └╥┘ ║ \n",
       "c: 2/═════════════════════════╩══╩═\n",
       "                              1  0 "
      ]
     },
     "execution_count": 2,
     "metadata": {},
     "output_type": "execute_result"
    }
   ],
   "source": [
    "quantum_circuit.draw()"
   ]
  },
  {
   "cell_type": "markdown",
   "id": "6b938778",
   "metadata": {},
   "source": [
    "### IBM Quantum Composer output:"
   ]
  },
  {
   "cell_type": "markdown",
   "id": "c94ec7dd",
   "metadata": {},
   "source": [
    "|01>"
   ]
  },
  {
   "cell_type": "markdown",
   "id": "ea4b4adf",
   "metadata": {},
   "source": [
    "### AER Simulator"
   ]
  },
  {
   "cell_type": "code",
   "execution_count": 3,
   "id": "984562d8",
   "metadata": {},
   "outputs": [
    {
     "name": "stdout",
     "output_type": "stream",
     "text": [
      "Result(backend_name='qasm_simulator', backend_version='0.11.2', qobj_id='7f7efbda-4af6-425e-81a0-0905424ff946', job_id='869d520f-bd3a-4ad0-a064-ec60660f5a7f', success=True, results=[ExperimentResult(shots=1024, success=True, meas_level=2, data=ExperimentResultData(counts={'0x2': 495, '0x1': 529}), header=QobjExperimentHeader(clbit_labels=[['c', 0], ['c', 1]], creg_sizes=[['c', 2]], global_phase=0.0, memory_slots=2, metadata={}, n_qubits=2, name='circuit-85', qreg_sizes=[['q', 2]], qubit_labels=[['q', 0], ['q', 1]]), status=DONE, seed_simulator=1165421540, metadata={'parallel_state_update': 8, 'parallel_shots': 1, 'sample_measure_time': 0.000890334, 'noise': 'ideal', 'batched_shots_optimization': False, 'remapped_qubits': False, 'device': 'CPU', 'active_input_qubits': [0, 1], 'measure_sampling': True, 'num_clbits': 2, 'input_qubit_map': [[1, 1], [0, 0]], 'num_qubits': 2, 'method': 'stabilizer', 'fusion': {'enabled': False}}, time_taken=0.0024465)], date=2023-02-20T19:45:08.888803, status=COMPLETED, header=QobjHeader(backend_name='qasm_simulator', backend_version='0.11.2'), metadata={'mpi_rank': 0, 'num_mpi_processes': 1, 'num_processes_per_experiments': 1, 'time_taken': 0.002560125, 'max_gpu_memory_mb': 0, 'time_taken_execute': 0.002458416, 'max_memory_mb': 16384, 'time_taken_load_qobj': 8.7042e-05, 'parallel_experiments': 1, 'omp_enabled': True}, time_taken=0.0027027130126953125)\n"
     ]
    }
   ],
   "source": [
    "# As we can see, the circuit is now built according to the image. We can now measure the qubit at the quantum register.\n",
    "# For this we have two methods, AER(quantum computer simulator) and IBMQ (IBM's quantum computer)\n",
    "\n",
    "#AER\n",
    "from qiskit.providers.aer import QasmSimulator\n",
    "backend= QasmSimulator()\n",
    "job = backend.run(quantum_circuit,shots=1024)\n",
    "result = job.result()\n",
    "print(result)\n",
    "\n",
    "\n",
    "\n"
   ]
  },
  {
   "cell_type": "code",
   "execution_count": 4,
   "id": "43c99a00",
   "metadata": {},
   "outputs": [
    {
     "data": {
      "image/png": "[encoded data removed]",
      "text/plain": [
       "<Figure size 700x500 with 1 Axes>"
      ]
     },
     "execution_count": 4,
     "metadata": {},
     "output_type": "execute_result"
    }
   ],
   "source": [
    "# We can plot a histogram to see the values\n",
    "from qiskit.visualization import plot_histogram\n",
    "counts = result.get_counts(quantum_circuit)\n",
    "plot_histogram(counts)\n"
   ]
  },
  {
   "cell_type": "code",
   "execution_count": 5,
   "id": "5243c0e4",
   "metadata": {},
   "outputs": [
    {
     "name": "stdout",
     "output_type": "stream",
     "text": [
      "{'10': 495, '01': 529}\n"
     ]
    }
   ],
   "source": [
    "# Let us see the counts\n",
    "print(counts)\n"
   ]
  },
  {
   "cell_type": "markdown",
   "id": "db6692e8",
   "metadata": {},
   "source": [
    "### IBMQ"
   ]
  },
  {
   "cell_type": "code",
   "execution_count": 6,
   "id": "6fe7446d",
   "metadata": {},
   "outputs": [
    {
     "name": "stdout",
     "output_type": "stream",
     "text": [
      "['ibmq_qasm_simulator', 'ibmq_lima', 'ibmq_belem', 'ibmq_quito', 'simulator_statevector', 'simulator_mps', 'simulator_extended_stabilizer', 'simulator_stabilizer', 'ibmq_jakarta', 'ibmq_manila', 'ibm_lagos', 'ibm_nairobi', 'ibm_perth', 'ibm_oslo']\n",
      "Job Status: job has successfully run\n"
     ]
    },
    {
     "data": {
      "image/png": "[encoded data removed]",
      "text/plain": [
       "<Figure size 700x500 with 1 Axes>"
      ]
     },
     "execution_count": 6,
     "metadata": {},
     "output_type": "execute_result"
    }
   ],
   "source": [
    "#IBMQ\n",
    "\n",
    "# Now let us see the working of this circuit on a real quantum machine.\n",
    "# Note: You need to create an IBMQ account before proceeding.\n",
    "from qiskit import *\n",
    "from qiskit import IBMQ\n",
    "\n",
    "# This step is for first time users.\n",
    "# 'IBMQ.save_account(TOKEN)'\n",
    "# For this token, visit https://quantum-computing.ibm.com/ create an account with any email id\n",
    "# and login to view the token and copy it.\n",
    "\n",
    "# This step is after you have created and saved your account.\n",
    "IBMQ.load_account()\n",
    "\n",
    "# To view all the poviders\n",
    "print([backend.name() for backend in IBMQ.providers()[0].backends()])\n",
    "\n",
    "\n",
    "\n",
    "\n",
    "# We can select any provider, but ibmq_manila will work.\n",
    "from qiskit.tools.monitor import job_monitor\n",
    "provider = IBMQ.get_provider(hub = 'ibm-q',group = 'open',project='main')\n",
    "backend = provider.get_backend('ibmq_lima')\n",
    "job = execute(quantum_circuit, backend=backend, shots=100)\n",
    "job_monitor(job)\n",
    "results = job.result()\n",
    "\n",
    "\n",
    "\n",
    "\n",
    "# Plot histogram of the outputs recieved.\n",
    "counts = results.get_counts(quantum_circuit)\n",
    "plot_histogram(counts)"
   ]
  },
  {
   "cell_type": "code",
   "execution_count": null,
   "id": "27e7547b",
   "metadata": {},
   "outputs": [],
   "source": []
  },
  {
   "cell_type": "code",
   "execution_count": null,
   "id": "97ae947a",
   "metadata": {},
   "outputs": [],
   "source": []
  },
  {
   "cell_type": "code",
   "execution_count": null,
   "id": "70765492",
   "metadata": {},
   "outputs": [],
   "source": []
  },
  {
   "cell_type": "markdown",
   "id": "441ca4d3",
   "metadata": {},
   "source": [
    "# Problem 14"
   ]
  },
  {
   "cell_type": "markdown",
   "id": "e0b63904",
   "metadata": {},
   "source": [
    "## Circuit 1"
   ]
  },
  {
   "cell_type": "raw",
   "id": "8f201878",
   "metadata": {},
   "source": [
    "#QASM\n",
    "OPENQASM 2.0;\n",
    "include \"qelib1.inc\";\n",
    "qreg q[3];\n",
    "creg c[3];\n",
    "\n",
    "h q[1];\n",
    "cx q[1], q[2];\n",
    "cx q[0], q[1];\n",
    "h q[0];\n",
    "barrier q[0], q[1], q[2];\n",
    "measure q[0] -> c[0];\n",
    "measure q[1] -> c[1];\n",
    "barrier q[0], q[1], q[2];\n",
    "cx q[1], q[2];\n",
    "cz q[0], q[2];"
   ]
  },
  {
   "cell_type": "markdown",
   "id": "eb85856f",
   "metadata": {},
   "source": [
    "### QISKIT Code"
   ]
  },
  {
   "cell_type": "code",
   "execution_count": 7,
   "id": "38aa3c4b",
   "metadata": {},
   "outputs": [
    {
     "data": {
      "text/plain": [
       "<qiskit.circuit.instructionset.InstructionSet at 0x7f81f2a3ecd0>"
      ]
     },
     "execution_count": 7,
     "metadata": {},
     "output_type": "execute_result"
    }
   ],
   "source": [
    "#QISKIT\n",
    "from qiskit import QuantumRegister, ClassicalRegister, QuantumCircuit\n",
    "from numpy import pi\n",
    "\n",
    "qreg_q = QuantumRegister(3, 'q')\n",
    "creg_c = ClassicalRegister(3, 'c')\n",
    "quantum_circuit = QuantumCircuit(qreg_q, creg_c)\n",
    "\n",
    "quantum_circuit.h(qreg_q[1])\n",
    "quantum_circuit.cx(qreg_q[1], qreg_q[2])\n",
    "quantum_circuit.cx(qreg_q[0], qreg_q[1])\n",
    "quantum_circuit.h(qreg_q[0])\n",
    "quantum_circuit.barrier(qreg_q[0], qreg_q[1], qreg_q[2])\n",
    "quantum_circuit.measure(qreg_q[0], creg_c[0])\n",
    "quantum_circuit.measure(qreg_q[1], creg_c[1])\n",
    "quantum_circuit.barrier(qreg_q[0], qreg_q[1], qreg_q[2])\n",
    "quantum_circuit.cx(qreg_q[1], qreg_q[2])\n",
    "quantum_circuit.cz(qreg_q[0], qreg_q[2])"
   ]
  },
  {
   "cell_type": "code",
   "execution_count": 8,
   "id": "91dfb0c3",
   "metadata": {},
   "outputs": [],
   "source": [
    "# remember to convert circuit -> quantum_circuit"
   ]
  },
  {
   "cell_type": "raw",
   "id": "0c7a9526",
   "metadata": {},
   "source": []
  },
  {
   "cell_type": "code",
   "execution_count": null,
   "id": "640f1071",
   "metadata": {},
   "outputs": [],
   "source": []
  },
  {
   "cell_type": "code",
   "execution_count": 9,
   "id": "ef11994c",
   "metadata": {},
   "outputs": [
    {
     "data": {
      "text/html": [
       "<pre style=\"word-wrap: normal;white-space: pre;background: #fff0;line-height: 1.1;font-family: &quot;Courier New&quot;,Courier,monospace\">                    ┌───┐ ░ ┌─┐    ░         \n",
       "q_0: ────────────■──┤ H ├─░─┤M├────░───────■─\n",
       "     ┌───┐     ┌─┴─┐└───┘ ░ └╥┘┌─┐ ░       │ \n",
       "q_1: ┤ H ├──■──┤ X ├──────░──╫─┤M├─░───■───┼─\n",
       "     └───┘┌─┴─┐└───┘      ░  ║ └╥┘ ░ ┌─┴─┐ │ \n",
       "q_2: ─────┤ X ├───────────░──╫──╫──░─┤ X ├─■─\n",
       "          └───┘           ░  ║  ║  ░ └───┘   \n",
       "c: 3/════════════════════════╩══╩════════════\n",
       "                             0  1            </pre>"
      ],
      "text/plain": [
       "                    ┌───┐ ░ ┌─┐    ░         \n",
       "q_0: ────────────■──┤ H ├─░─┤M├────░───────■─\n",
       "     ┌───┐     ┌─┴─┐└───┘ ░ └╥┘┌─┐ ░       │ \n",
       "q_1: ┤ H ├──■──┤ X ├──────░──╫─┤M├─░───■───┼─\n",
       "     └───┘┌─┴─┐└───┘      ░  ║ └╥┘ ░ ┌─┴─┐ │ \n",
       "q_2: ─────┤ X ├───────────░──╫──╫──░─┤ X ├─■─\n",
       "          └───┘           ░  ║  ║  ░ └───┘   \n",
       "c: 3/════════════════════════╩══╩════════════\n",
       "                             0  1            "
      ]
     },
     "execution_count": 9,
     "metadata": {},
     "output_type": "execute_result"
    }
   ],
   "source": [
    "quantum_circuit.draw()"
   ]
  },
  {
   "cell_type": "markdown",
   "id": "16c09323",
   "metadata": {},
   "source": [
    "### IBM Quantum Composer output:"
   ]
  },
  {
   "cell_type": "markdown",
   "id": "b1adc8fa",
   "metadata": {},
   "source": [
    "|001>"
   ]
  },
  {
   "cell_type": "markdown",
   "id": "ef433456",
   "metadata": {},
   "source": [
    "### Aer Simulator"
   ]
  },
  {
   "cell_type": "code",
   "execution_count": 10,
   "id": "c03e4476",
   "metadata": {},
   "outputs": [
    {
     "name": "stdout",
     "output_type": "stream",
     "text": [
      "Result(backend_name='qasm_simulator', backend_version='0.11.2', qobj_id='d86a8e1f-53f0-43e3-b8fb-567ee7974f86', job_id='d785e1c0-008e-4edf-8b15-38685e669520', success=True, results=[ExperimentResult(shots=1024, success=True, meas_level=2, data=ExperimentResultData(counts={'0x1': 252, '0x3': 244, '0x2': 259, '0x0': 269}), header=QobjExperimentHeader(clbit_labels=[['c', 0], ['c', 1], ['c', 2]], creg_sizes=[['c', 3]], global_phase=0.0, memory_slots=3, metadata={}, n_qubits=3, name='circuit-96', qreg_sizes=[['q', 3]], qubit_labels=[['q', 0], ['q', 1], ['q', 2]]), status=DONE, seed_simulator=240525774, metadata={'parallel_state_update': 8, 'parallel_shots': 1, 'sample_measure_time': 0.00207225, 'noise': 'ideal', 'batched_shots_optimization': False, 'remapped_qubits': False, 'device': 'CPU', 'active_input_qubits': [0, 1, 2], 'measure_sampling': True, 'num_clbits': 3, 'input_qubit_map': [[2, 2], [1, 1], [0, 0]], 'num_qubits': 3, 'method': 'stabilizer', 'fusion': {'enabled': False}}, time_taken=0.004835084)], date=2023-02-20T19:47:40.484993, status=COMPLETED, header=QobjHeader(backend_name='qasm_simulator', backend_version='0.11.2'), metadata={'mpi_rank': 0, 'num_mpi_processes': 1, 'num_processes_per_experiments': 1, 'time_taken': 0.005188667, 'max_gpu_memory_mb': 0, 'time_taken_execute': 0.004880666, 'max_memory_mb': 16384, 'time_taken_load_qobj': 0.000292542, 'parallel_experiments': 1, 'omp_enabled': True}, time_taken=0.006140947341918945)\n"
     ]
    }
   ],
   "source": [
    "# As we can see, the circuit is now built according to the image. We can now measure the qubit at the quantum register.\n",
    "# For this we have two methods, AER(quantum computer simulator) and IBMQ (IBM's quantum computer)\n",
    "\n",
    "#AER\n",
    "from qiskit.providers.aer import QasmSimulator\n",
    "backend = QasmSimulator()\n",
    "job = backend.run(quantum_circuit,shots=1024)\n",
    "result = job.result()\n",
    "print(result)\n",
    "\n",
    "\n",
    "\n"
   ]
  },
  {
   "cell_type": "code",
   "execution_count": 11,
   "id": "3d378b29",
   "metadata": {},
   "outputs": [
    {
     "data": {
      "image/png": "[encoded data removed]",
      "text/plain": [
       "<Figure size 700x500 with 1 Axes>"
      ]
     },
     "execution_count": 11,
     "metadata": {},
     "output_type": "execute_result"
    }
   ],
   "source": [
    "# We can plot a histogram to see the values\n",
    "from qiskit.visualization import plot_histogram\n",
    "counts = result.get_counts(quantum_circuit)\n",
    "plot_histogram(counts)\n"
   ]
  },
  {
   "cell_type": "code",
   "execution_count": 12,
   "id": "a9e44658",
   "metadata": {},
   "outputs": [
    {
     "name": "stdout",
     "output_type": "stream",
     "text": [
      "{'001': 252, '011': 244, '010': 259, '000': 269}\n"
     ]
    }
   ],
   "source": [
    "# Let us see the counts\n",
    "print(counts)\n"
   ]
  },
  {
   "cell_type": "code",
   "execution_count": 13,
   "id": "87e7bab1",
   "metadata": {},
   "outputs": [
    {
     "name": "stderr",
     "output_type": "stream",
     "text": [
      "ibmqfactory.load_account:WARNING:2023-02-20 19:47:43,482: Credentials are already in use. The existing account in the session will be replaced.\n"
     ]
    },
    {
     "name": "stdout",
     "output_type": "stream",
     "text": [
      "['ibmq_qasm_simulator', 'ibmq_lima', 'ibmq_belem', 'ibmq_quito', 'simulator_statevector', 'simulator_mps', 'simulator_extended_stabilizer', 'simulator_stabilizer', 'ibmq_jakarta', 'ibmq_manila', 'ibm_lagos', 'ibm_nairobi', 'ibm_perth', 'ibm_oslo']\n",
      "Job Status: job has successfully run\n"
     ]
    },
    {
     "data": {
      "image/png": "[encoded data removed]",
      "text/plain": [
       "<Figure size 700x500 with 1 Axes>"
      ]
     },
     "execution_count": 13,
     "metadata": {},
     "output_type": "execute_result"
    }
   ],
   "source": [
    "#IBMQ\n",
    "\n",
    "# Now let us see the working of this circuit on a real quantum machine.\n",
    "# Note: You need to create an IBMQ account before proceeding.\n",
    "from qiskit import *\n",
    "from qiskit import IBMQ\n",
    "\n",
    "# This step is for first time users.\n",
    "# 'IBMQ.save_account(TOKEN)'\n",
    "# For this token, visit https://quantum-computing.ibm.com/ create an account with any email id\n",
    "# and login to view the token and copy it.\n",
    "\n",
    "# This step is after you have created and saved your account.\n",
    "IBMQ.load_account()\n",
    "\n",
    "# To view all the poviders\n",
    "print([backend.name() for backend in IBMQ.providers()[0].backends()])\n",
    "\n",
    "\n",
    "\n",
    "\n",
    "# We can select any provider, but ibmq_manila will work.\n",
    "from qiskit.tools.monitor import job_monitor\n",
    "provider = IBMQ.get_provider(hub = 'ibm-q',group = 'open',project='main')\n",
    "backend = provider.get_backend('ibmq_lima')\n",
    "job = execute(quantum_circuit, backend=backend, shots=100)\n",
    "job_monitor(job)\n",
    "results = job.result()\n",
    "\n",
    "\n",
    "\n",
    "\n",
    "# Plot histogram of the outputs recieved.\n",
    "counts = results.get_counts(quantum_circuit)\n",
    "plot_histogram(counts)"
   ]
  },
  {
   "cell_type": "code",
   "execution_count": null,
   "id": "0d9b673f",
   "metadata": {},
   "outputs": [],
   "source": []
  },
  {
   "cell_type": "code",
   "execution_count": null,
   "id": "fc09354a",
   "metadata": {},
   "outputs": [],
   "source": []
  },
  {
   "cell_type": "code",
   "execution_count": null,
   "id": "85e3bd52",
   "metadata": {},
   "outputs": [],
   "source": []
  }
 ],
 "metadata": {
  "interpreter": {
   "hash": "37a42aaa31cc67f1bd04bce9cdd9af29f0bea779c6cd9677f08a81b83d4d2488"
  },
  "kernelspec": {
   "display_name": "Python 3 (ipykernel)",
   "language": "python",
   "name": "python3"
  },
  "language_info": {
   "codemirror_mode": {
    "name": "ipython",
    "version": 3
   },
   "file_extension": ".py",
   "mimetype": "text/x-python",
   "name": "python",
   "nbconvert_exporter": "python",
   "pygments_lexer": "ipython3",
   "version": "3.9.13"
  }
 },
 "nbformat": 4,
 "nbformat_minor": 5
}
