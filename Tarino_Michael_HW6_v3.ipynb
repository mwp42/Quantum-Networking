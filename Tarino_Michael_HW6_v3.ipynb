{
 "cells": [
  {
   "cell_type": "markdown",
   "id": "77b20bcb",
   "metadata": {},
   "source": [
    "# PEP 558 - Homework #6"
   ]
  },
  {
   "cell_type": "markdown",
   "id": "b3ae3534",
   "metadata": {},
   "source": [
    "## Problem 1"
   ]
  },
  {
   "cell_type": "markdown",
   "id": "cf17f5a3",
   "metadata": {},
   "source": [
    "## Circuit Input: |01>"
   ]
  },
  {
   "cell_type": "raw",
   "id": "089d8a42",
   "metadata": {},
   "source": [
    "#QASMOPENQASM 2.0;\n",
    "include \"qelib1.inc\";\n",
    "\n",
    "qreg q[3];\n",
    "creg xc[1];\n",
    "creg zc[1];\n",
    "creg c0[1];\n",
    "\n",
    "x q[2];\n",
    "barrier q[0], q[1], q[2];\n",
    "h q[1];\n",
    "cx q[1], q[2];\n",
    "cx q[0], q[1];\n",
    "h q[0];\n",
    "barrier q[0], q[1], q[2];\n",
    "\n",
    "measure q[0] -> zc[0];\n",
    "measure q[1] -> xc[0];\n",
    "barrier q[0], q[1], q[2];\n",
    "if (xc == 1) x q[2];\n",
    "if (zc == 1) z q[2];\n",
    "barrier q[0], q[1], q[2];\n",
    "measure q[2] -> c0[0];"
   ]
  },
  {
   "cell_type": "markdown",
   "id": "25527e1e",
   "metadata": {},
   "source": [
    "### QISKIT Code"
   ]
  },
  {
   "cell_type": "code",
   "execution_count": 1,
   "id": "7fa07040",
   "metadata": {},
   "outputs": [
    {
     "data": {
      "text/plain": [
       "<qiskit.circuit.instructionset.InstructionSet at 0x7fc3cacde670>"
      ]
     },
     "execution_count": 1,
     "metadata": {},
     "output_type": "execute_result"
    }
   ],
   "source": [
    "#QISKIT\n",
    "from qiskit import QuantumRegister, ClassicalRegister, QuantumCircuit\n",
    "from numpy import pi\n",
    "\n",
    "qreg_q = QuantumRegister(3, 'q')\n",
    "creg_xc = ClassicalRegister(1, 'xc')\n",
    "creg_zc = ClassicalRegister(1, 'zc')\n",
    "creg_c0 = ClassicalRegister(1, 'c0')\n",
    "circuit = QuantumCircuit(qreg_q, creg_xc, creg_zc, creg_c0)\n",
    "\n",
    "circuit.x(qreg_q[2])\n",
    "circuit.barrier(qreg_q[0], qreg_q[1], qreg_q[2])\n",
    "circuit.h(qreg_q[1])\n",
    "circuit.cx(qreg_q[1], qreg_q[2])\n",
    "circuit.cx(qreg_q[0], qreg_q[1])\n",
    "circuit.h(qreg_q[0])\n",
    "circuit.barrier(qreg_q[0], qreg_q[1], qreg_q[2])\n",
    "circuit.measure(qreg_q[0], creg_zc[0])\n",
    "circuit.measure(qreg_q[1], creg_xc[0])\n",
    "circuit.barrier(qreg_q[0], qreg_q[1], qreg_q[2])\n",
    "\n",
    "circuit.x(qreg_q[2]).c_if(creg_xc, 1)\n",
    "circuit.z(qreg_q[2]).c_if(creg_zc, 1)\n",
    "\n",
    "circuit.barrier(qreg_q[0], qreg_q[1], qreg_q[2])\n",
    "circuit.measure(qreg_q[2], creg_c0[0])"
   ]
  },
  {
   "cell_type": "code",
   "execution_count": 2,
   "id": "8ccb743c",
   "metadata": {},
   "outputs": [
    {
     "data": {
      "text/html": [
       "<pre style=\"word-wrap: normal;white-space: pre;background: #fff0;line-height: 1.1;font-family: &quot;Courier New&quot;,Courier,monospace\">            ░                ┌───┐ ░ ┌─┐    ░                ░    \n",
       " q_0: ──────░─────────────■──┤ H ├─░─┤M├────░────────────────░────\n",
       "            ░ ┌───┐     ┌─┴─┐└───┘ ░ └╥┘┌─┐ ░                ░    \n",
       " q_1: ──────░─┤ H ├──■──┤ X ├──────░──╫─┤M├─░────────────────░────\n",
       "      ┌───┐ ░ └───┘┌─┴─┐└───┘      ░  ║ └╥┘ ░  ┌───┐  ┌───┐  ░ ┌─┐\n",
       " q_2: ┤ X ├─░──────┤ X ├───────────░──╫──╫──░──┤ X ├──┤ Z ├──░─┤M├\n",
       "      └───┘ ░      └───┘           ░  ║  ║  ░  └─╥─┘  └─╥─┘  ░ └╥┘\n",
       "                                      ║  ║    ┌──╨──┐   ║       ║ \n",
       "xc: 1/════════════════════════════════╬══╩════╡ 0x1 ╞═══╬═══════╬═\n",
       "                                      ║  0    └─────┘┌──╨──┐    ║ \n",
       "zc: 1/════════════════════════════════╩══════════════╡ 0x1 ╞════╬═\n",
       "                                      0              └─────┘    ║ \n",
       "c0: 1/══════════════════════════════════════════════════════════╩═\n",
       "                                                                0 </pre>"
      ],
      "text/plain": [
       "            ░                ┌───┐ ░ ┌─┐    ░                ░    \n",
       " q_0: ──────░─────────────■──┤ H ├─░─┤M├────░────────────────░────\n",
       "            ░ ┌───┐     ┌─┴─┐└───┘ ░ └╥┘┌─┐ ░                ░    \n",
       " q_1: ──────░─┤ H ├──■──┤ X ├──────░──╫─┤M├─░────────────────░────\n",
       "      ┌───┐ ░ └───┘┌─┴─┐└───┘      ░  ║ └╥┘ ░  ┌───┐  ┌───┐  ░ ┌─┐\n",
       " q_2: ┤ X ├─░──────┤ X ├───────────░──╫──╫──░──┤ X ├──┤ Z ├──░─┤M├\n",
       "      └───┘ ░      └───┘           ░  ║  ║  ░  └─╥─┘  └─╥─┘  ░ └╥┘\n",
       "                                      ║  ║    ┌──╨──┐   ║       ║ \n",
       "xc: 1/════════════════════════════════╬══╩════╡ 0x1 ╞═══╬═══════╬═\n",
       "                                      ║  0    └─────┘┌──╨──┐    ║ \n",
       "zc: 1/════════════════════════════════╩══════════════╡ 0x1 ╞════╬═\n",
       "                                      0              └─────┘    ║ \n",
       "c0: 1/══════════════════════════════════════════════════════════╩═\n",
       "                                                                0 "
      ]
     },
     "execution_count": 2,
     "metadata": {},
     "output_type": "execute_result"
    }
   ],
   "source": [
    "circuit.draw()"
   ]
  },
  {
   "cell_type": "markdown",
   "id": "6b938778",
   "metadata": {},
   "source": [
    "### IBM Quantum Composer output:"
   ]
  },
  {
   "cell_type": "markdown",
   "id": "c94ec7dd",
   "metadata": {},
   "source": [
    "|110>"
   ]
  },
  {
   "cell_type": "markdown",
   "id": "ea4b4adf",
   "metadata": {},
   "source": [
    "### AER Simulator"
   ]
  },
  {
   "cell_type": "code",
   "execution_count": 3,
   "id": "984562d8",
   "metadata": {},
   "outputs": [
    {
     "name": "stdout",
     "output_type": "stream",
     "text": [
      "Result(backend_name='qasm_simulator', backend_version='0.11.2', qobj_id='9186bce7-7a66-4191-89e4-439b03a91190', job_id='f6b46994-5031-48a8-945a-2b5df417eced', success=True, results=[ExperimentResult(shots=1024, success=True, meas_level=2, data=ExperimentResultData(counts={'0x7': 245, '0x4': 264, '0x5': 256, '0x6': 259}), header=QobjExperimentHeader(clbit_labels=[['xc', 0], ['zc', 0], ['c0', 0]], creg_sizes=[['xc', 1], ['zc', 1], ['c0', 1]], global_phase=0.0, memory_slots=3, metadata={}, n_qubits=3, name='circuit-85', qreg_sizes=[['q', 3]], qubit_labels=[['q', 0], ['q', 1], ['q', 2]]), status=DONE, seed_simulator=4186732001, metadata={'noise': 'ideal', 'batched_shots_optimization': False, 'remapped_qubits': False, 'parallel_state_update': 1, 'parallel_shots': 8, 'device': 'CPU', 'active_input_qubits': [0, 1, 2], 'measure_sampling': False, 'num_clbits': 3, 'input_qubit_map': [[2, 2], [1, 1], [0, 0]], 'num_qubits': 3, 'method': 'stabilizer', 'fusion': {'enabled': False}}, time_taken=0.009415833)], date=2023-03-02T18:18:56.671895, status=COMPLETED, header=QobjHeader(backend_name='qasm_simulator', backend_version='0.11.2'), metadata={'mpi_rank': 0, 'num_mpi_processes': 1, 'num_processes_per_experiments': 1, 'time_taken': 0.0095865, 'max_gpu_memory_mb': 0, 'time_taken_execute': 0.009433875, 'max_memory_mb': 16384, 'time_taken_load_qobj': 0.000134833, 'parallel_experiments': 1, 'omp_enabled': True}, time_taken=0.009837150573730469)\n"
     ]
    }
   ],
   "source": [
    "# As we can see, the circuit is now built according to the image. We can now measure the qubit at the quantum register.\n",
    "# For this we have two methods, AER(quantum computer simulator) and IBMQ (IBM's quantum computer)\n",
    "\n",
    "#AER\n",
    "from qiskit.providers.aer import QasmSimulator\n",
    "backend= QasmSimulator()\n",
    "job = backend.run(circuit,shots=1024)\n",
    "result = job.result()\n",
    "print(result)\n",
    "\n",
    "\n",
    "\n"
   ]
  },
  {
   "cell_type": "code",
   "execution_count": 4,
   "id": "43c99a00",
   "metadata": {},
   "outputs": [
    {
     "data": {
      "image/png": "[encoded data removed]",
      "text/plain": [
       "<Figure size 700x500 with 1 Axes>"
      ]
     },
     "execution_count": 4,
     "metadata": {},
     "output_type": "execute_result"
    }
   ],
   "source": [
    "# We can plot a histogram to see the values\n",
    "from qiskit.visualization import plot_histogram\n",
    "counts = result.get_counts(circuit)\n",
    "plot_histogram(counts)\n"
   ]
  },
  {
   "cell_type": "code",
   "execution_count": 5,
   "id": "5243c0e4",
   "metadata": {},
   "outputs": [
    {
     "name": "stdout",
     "output_type": "stream",
     "text": [
      "{'1 1 1': 245, '1 0 0': 264, '1 0 1': 256, '1 1 0': 259}\n"
     ]
    }
   ],
   "source": [
    "# Let us see the counts\n",
    "print(counts)\n"
   ]
  },
  {
   "cell_type": "markdown",
   "id": "db6692e8",
   "metadata": {},
   "source": [
    "### IBMQ"
   ]
  },
  {
   "cell_type": "code",
   "execution_count": null,
   "id": "6fe7446d",
   "metadata": {},
   "outputs": [],
   "source": [
    "#IBMQ\n",
    "\n",
    "# Now let us see the working of this circuit on a real quantum machine.\n",
    "# Note: You need to create an IBMQ account before proceeding.\n",
    "from qiskit import *\n",
    "from qiskit import IBMQ\n",
    "\n",
    "# This step is for first time users.\n",
    "# 'IBMQ.save_account(TOKEN)'\n",
    "# For this token, visit https://quantum-computing.ibm.com/ create an account with any email id\n",
    "# and login to view the token and copy it.\n",
    "\n",
    "# This step is after you have created and saved your account.\n",
    "IBMQ.load_account()\n",
    "\n",
    "# To view all the poviders\n",
    "print([backend.name() for backend in IBMQ.providers()[0].backends()])\n",
    "\n",
    "\n",
    "\n",
    "\n",
    "# We can select any provider, but ibmq_manila will work.\n",
    "from qiskit.tools.monitor import job_monitor\n",
    "provider = IBMQ.get_provider(hub = 'ibm-q',group = 'open',project='main')\n",
    "backend = provider.get_backend('ibmq_lima')\n",
    "job = execute(circuit, backend=backend, shots=100)\n",
    "job_monitor(job)\n",
    "results = job.result()\n"
   ]
  },
  {
   "cell_type": "code",
   "execution_count": null,
   "id": "27e7547b",
   "metadata": {},
   "outputs": [],
   "source": [
    "# Plot histogram of the outputs recieved.\n",
    "counts = results.get_counts(circuit)\n",
    "plot_histogram(counts)"
   ]
  },
  {
   "cell_type": "code",
   "execution_count": null,
   "id": "97ae947a",
   "metadata": {},
   "outputs": [],
   "source": []
  },
  {
   "cell_type": "code",
   "execution_count": null,
   "id": "70765492",
   "metadata": {},
   "outputs": [],
   "source": []
  },
  {
   "cell_type": "markdown",
   "id": "441ca4d3",
   "metadata": {},
   "source": [
    "## Circuit Input: |10>"
   ]
  },
  {
   "cell_type": "raw",
   "id": "8f201878",
   "metadata": {},
   "source": [
    "#QASM\n",
    "OPENQASM 2.0;\n",
    "include \"qelib1.inc\";\n",
    "\n",
    "qreg q[3];\n",
    "creg xc[1];\n",
    "creg zc[1];\n",
    "creg c0[1];\n",
    "\n",
    "x q[1];\n",
    "barrier q[0], q[1], q[2];\n",
    "h q[1];\n",
    "cx q[1], q[2];\n",
    "cx q[0], q[1];\n",
    "h q[0];\n",
    "barrier q[0], q[1], q[2];\n",
    "\n",
    "measure q[0] -> zc[0];\n",
    "measure q[1] -> xc[0];\n",
    "barrier q[0], q[1], q[2];\n",
    "if (xc == 1) x q[2];\n",
    "if (zc == 1) z q[2];\n",
    "barrier q[0], q[1], q[2];\n",
    "measure q[2] -> c0[0];"
   ]
  },
  {
   "cell_type": "markdown",
   "id": "eb85856f",
   "metadata": {},
   "source": [
    "### QISKIT Code"
   ]
  },
  {
   "cell_type": "code",
   "execution_count": 6,
   "id": "38aa3c4b",
   "metadata": {},
   "outputs": [
    {
     "data": {
      "text/plain": [
       "<qiskit.circuit.instructionset.InstructionSet at 0x7fc3cb7278e0>"
      ]
     },
     "execution_count": 6,
     "metadata": {},
     "output_type": "execute_result"
    }
   ],
   "source": [
    "#QISKIT\n",
    "from qiskit import QuantumRegister, ClassicalRegister, QuantumCircuit\n",
    "from numpy import pi\n",
    "\n",
    "qreg_q = QuantumRegister(3, 'q')\n",
    "creg_xc = ClassicalRegister(1, 'xc')\n",
    "creg_zc = ClassicalRegister(1, 'zc')\n",
    "creg_c0 = ClassicalRegister(1, 'c0')\n",
    "circuit = QuantumCircuit(qreg_q, creg_xc, creg_zc, creg_c0)\n",
    "\n",
    "circuit.x(qreg_q[1])\n",
    "circuit.barrier(qreg_q[0], qreg_q[1], qreg_q[2])\n",
    "circuit.h(qreg_q[1])\n",
    "circuit.cx(qreg_q[1], qreg_q[2])\n",
    "circuit.cx(qreg_q[0], qreg_q[1])\n",
    "circuit.h(qreg_q[0])\n",
    "circuit.barrier(qreg_q[0], qreg_q[1], qreg_q[2])\n",
    "circuit.measure(qreg_q[0], creg_zc[0])\n",
    "circuit.measure(qreg_q[1], creg_xc[0])\n",
    "circuit.barrier(qreg_q[0], qreg_q[1], qreg_q[2])\n",
    "circuit.x(qreg_q[2]).c_if(creg_xc, 1)\n",
    "circuit.z(qreg_q[2]).c_if(creg_zc, 1)\n",
    "circuit.barrier(qreg_q[0], qreg_q[1], qreg_q[2])\n",
    "circuit.measure(qreg_q[2], creg_c0[0])"
   ]
  },
  {
   "cell_type": "code",
   "execution_count": 7,
   "id": "91dfb0c3",
   "metadata": {},
   "outputs": [],
   "source": [
    "# remember to convert circuit -> quantum_circuit"
   ]
  },
  {
   "cell_type": "code",
   "execution_count": 8,
   "id": "ef11994c",
   "metadata": {},
   "outputs": [
    {
     "data": {
      "text/html": [
       "<pre style=\"word-wrap: normal;white-space: pre;background: #fff0;line-height: 1.1;font-family: &quot;Courier New&quot;,Courier,monospace\">            ░                ┌───┐ ░ ┌─┐    ░                ░    \n",
       " q_0: ──────░─────────────■──┤ H ├─░─┤M├────░────────────────░────\n",
       "      ┌───┐ ░ ┌───┐     ┌─┴─┐└───┘ ░ └╥┘┌─┐ ░                ░    \n",
       " q_1: ┤ X ├─░─┤ H ├──■──┤ X ├──────░──╫─┤M├─░────────────────░────\n",
       "      └───┘ ░ └───┘┌─┴─┐└───┘      ░  ║ └╥┘ ░  ┌───┐  ┌───┐  ░ ┌─┐\n",
       " q_2: ──────░──────┤ X ├───────────░──╫──╫──░──┤ X ├──┤ Z ├──░─┤M├\n",
       "            ░      └───┘           ░  ║  ║  ░  └─╥─┘  └─╥─┘  ░ └╥┘\n",
       "                                      ║  ║    ┌──╨──┐   ║       ║ \n",
       "xc: 1/════════════════════════════════╬══╩════╡ 0x1 ╞═══╬═══════╬═\n",
       "                                      ║  0    └─────┘┌──╨──┐    ║ \n",
       "zc: 1/════════════════════════════════╩══════════════╡ 0x1 ╞════╬═\n",
       "                                      0              └─────┘    ║ \n",
       "c0: 1/══════════════════════════════════════════════════════════╩═\n",
       "                                                                0 </pre>"
      ],
      "text/plain": [
       "            ░                ┌───┐ ░ ┌─┐    ░                ░    \n",
       " q_0: ──────░─────────────■──┤ H ├─░─┤M├────░────────────────░────\n",
       "      ┌───┐ ░ ┌───┐     ┌─┴─┐└───┘ ░ └╥┘┌─┐ ░                ░    \n",
       " q_1: ┤ X ├─░─┤ H ├──■──┤ X ├──────░──╫─┤M├─░────────────────░────\n",
       "      └───┘ ░ └───┘┌─┴─┐└───┘      ░  ║ └╥┘ ░  ┌───┐  ┌───┐  ░ ┌─┐\n",
       " q_2: ──────░──────┤ X ├───────────░──╫──╫──░──┤ X ├──┤ Z ├──░─┤M├\n",
       "            ░      └───┘           ░  ║  ║  ░  └─╥─┘  └─╥─┘  ░ └╥┘\n",
       "                                      ║  ║    ┌──╨──┐   ║       ║ \n",
       "xc: 1/════════════════════════════════╬══╩════╡ 0x1 ╞═══╬═══════╬═\n",
       "                                      ║  0    └─────┘┌──╨──┐    ║ \n",
       "zc: 1/════════════════════════════════╩══════════════╡ 0x1 ╞════╬═\n",
       "                                      0              └─────┘    ║ \n",
       "c0: 1/══════════════════════════════════════════════════════════╩═\n",
       "                                                                0 "
      ]
     },
     "execution_count": 8,
     "metadata": {},
     "output_type": "execute_result"
    }
   ],
   "source": [
    "circuit.draw()"
   ]
  },
  {
   "cell_type": "markdown",
   "id": "16c09323",
   "metadata": {},
   "source": [
    "### IBM Quantum Composer output:"
   ]
  },
  {
   "cell_type": "markdown",
   "id": "b1adc8fa",
   "metadata": {},
   "source": [
    "|010>"
   ]
  },
  {
   "cell_type": "markdown",
   "id": "ef433456",
   "metadata": {},
   "source": [
    "### Aer Simulator"
   ]
  },
  {
   "cell_type": "code",
   "execution_count": 9,
   "id": "c03e4476",
   "metadata": {},
   "outputs": [
    {
     "name": "stdout",
     "output_type": "stream",
     "text": [
      "Result(backend_name='qasm_simulator', backend_version='0.11.2', qobj_id='02b976c2-364e-418d-a5a5-0a71f71f6c37', job_id='65856721-0c26-427a-89e9-8676f076a3f3', success=True, results=[ExperimentResult(shots=1024, success=True, meas_level=2, data=ExperimentResultData(counts={'0x1': 274, '0x2': 267, '0x3': 251, '0x0': 232}), header=QobjExperimentHeader(clbit_labels=[['xc', 0], ['zc', 0], ['c0', 0]], creg_sizes=[['xc', 1], ['zc', 1], ['c0', 1]], global_phase=0.0, memory_slots=3, metadata={}, n_qubits=3, name='circuit-89', qreg_sizes=[['q', 3]], qubit_labels=[['q', 0], ['q', 1], ['q', 2]]), status=DONE, seed_simulator=376310127, metadata={'noise': 'ideal', 'batched_shots_optimization': False, 'remapped_qubits': False, 'parallel_state_update': 1, 'parallel_shots': 8, 'device': 'CPU', 'active_input_qubits': [0, 1, 2], 'measure_sampling': False, 'num_clbits': 3, 'input_qubit_map': [[2, 2], [1, 1], [0, 0]], 'num_qubits': 3, 'method': 'stabilizer', 'fusion': {'enabled': False}}, time_taken=0.040054917)], date=2023-03-02T18:19:21.449525, status=COMPLETED, header=QobjHeader(backend_name='qasm_simulator', backend_version='0.11.2'), metadata={'mpi_rank': 0, 'num_mpi_processes': 1, 'num_processes_per_experiments': 1, 'time_taken': 0.040619209, 'max_gpu_memory_mb': 0, 'time_taken_execute': 0.040131042, 'max_memory_mb': 16384, 'time_taken_load_qobj': 0.000468834, 'parallel_experiments': 1, 'omp_enabled': True}, time_taken=0.04189801216125488)\n"
     ]
    }
   ],
   "source": [
    "# As we can see, the circuit is now built according to the image. We can now measure the qubit at the quantum register.\n",
    "# For this we have two methods, AER(quantum computer simulator) and IBMQ (IBM's quantum computer)\n",
    "\n",
    "#AER\n",
    "from qiskit.providers.aer import QasmSimulator\n",
    "backend = QasmSimulator()\n",
    "job = backend.run(circuit,shots=1024)\n",
    "result = job.result()\n",
    "print(result)\n",
    "\n",
    "\n",
    "\n"
   ]
  },
  {
   "cell_type": "code",
   "execution_count": 10,
   "id": "3d378b29",
   "metadata": {},
   "outputs": [
    {
     "data": {
      "image/png": "[encoded data removed]",
      "text/plain": [
       "<Figure size 700x500 with 1 Axes>"
      ]
     },
     "execution_count": 10,
     "metadata": {},
     "output_type": "execute_result"
    }
   ],
   "source": [
    "# We can plot a histogram to see the values\n",
    "from qiskit.visualization import plot_histogram\n",
    "counts = result.get_counts(circuit)\n",
    "plot_histogram(counts)\n"
   ]
  },
  {
   "cell_type": "code",
   "execution_count": 11,
   "id": "a9e44658",
   "metadata": {},
   "outputs": [
    {
     "name": "stdout",
     "output_type": "stream",
     "text": [
      "{'0 0 1': 274, '0 1 0': 267, '0 1 1': 251, '0 0 0': 232}\n"
     ]
    }
   ],
   "source": [
    "# Let us see the counts\n",
    "print(counts)\n"
   ]
  },
  {
   "cell_type": "markdown",
   "id": "52baf0a5",
   "metadata": {},
   "source": [
    "### IBMQ"
   ]
  },
  {
   "cell_type": "code",
   "execution_count": null,
   "id": "87e7bab1",
   "metadata": {},
   "outputs": [],
   "source": [
    "#IBMQ\n",
    "\n",
    "# Now let us see the working of this circuit on a real quantum machine.\n",
    "# Note: You need to create an IBMQ account before proceeding.\n",
    "from qiskit import *\n",
    "from qiskit import IBMQ\n",
    "\n",
    "# This step is for first time users.\n",
    "# 'IBMQ.save_account(TOKEN)'\n",
    "# For this token, visit https://quantum-computing.ibm.com/ create an account with any email id\n",
    "# and login to view the token and copy it.\n",
    "\n",
    "# This step is after you have created and saved your account.\n",
    "IBMQ.load_account()\n",
    "\n",
    "# To view all the poviders\n",
    "print([backend.name() for backend in IBMQ.providers()[0].backends()])\n",
    "\n",
    "\n",
    "\n",
    "\n",
    "# We can select any provider, but ibmq_manila will work.\n",
    "from qiskit.tools.monitor import job_monitor\n",
    "provider = IBMQ.get_provider(hub = 'ibm-q',group = 'open',project='main')\n",
    "backend = provider.get_backend('ibmq_lima')\n",
    "job = execute(circuit, backend=backend, shots=100)\n",
    "job_monitor(job)\n",
    "results = job.result()\n",
    "\n",
    "\n",
    "\n",
    "\n"
   ]
  },
  {
   "cell_type": "code",
   "execution_count": null,
   "id": "0d9b673f",
   "metadata": {},
   "outputs": [],
   "source": [
    "# Plot histogram of the outputs recieved.\n",
    "counts = results.get_counts(circuit)\n",
    "plot_histogram(counts)"
   ]
  },
  {
   "cell_type": "code",
   "execution_count": null,
   "id": "fc09354a",
   "metadata": {},
   "outputs": [],
   "source": []
  },
  {
   "cell_type": "code",
   "execution_count": null,
   "id": "85e3bd52",
   "metadata": {},
   "outputs": [],
   "source": []
  },
  {
   "cell_type": "markdown",
   "id": "9de1f412",
   "metadata": {},
   "source": [
    "## Circuit Input: |11>"
   ]
  },
  {
   "cell_type": "raw",
   "id": "34191bd3",
   "metadata": {},
   "source": [
    "#QASM\n",
    "OPENQASM 2.0;\n",
    "include \"qelib1.inc\";\n",
    "\n",
    "qreg q[3];\n",
    "creg xc[1];\n",
    "creg zc[1];\n",
    "creg c0[1];\n",
    "\n",
    "x q[2];\n",
    "x q[1];\n",
    "barrier q[0], q[1], q[2];\n",
    "h q[1];\n",
    "cx q[1], q[2];\n",
    "cx q[0], q[1];\n",
    "h q[0];\n",
    "barrier q[0], q[1], q[2];\n",
    "\n",
    "measure q[0] -> zc[0];\n",
    "measure q[1] -> xc[0];\n",
    "barrier q[0], q[1], q[2];\n",
    "if (xc == 1) x q[2];\n",
    "if (zc == 1) z q[2];\n",
    "barrier q[0], q[1], q[2];\n",
    "measure q[2] -> c0[0];"
   ]
  },
  {
   "cell_type": "markdown",
   "id": "e5666f06",
   "metadata": {},
   "source": [
    "### QISKIT Code"
   ]
  },
  {
   "cell_type": "code",
   "execution_count": 12,
   "id": "810388e5",
   "metadata": {},
   "outputs": [
    {
     "data": {
      "text/plain": [
       "<qiskit.circuit.instructionset.InstructionSet at 0x7fc3cb7651c0>"
      ]
     },
     "execution_count": 12,
     "metadata": {},
     "output_type": "execute_result"
    }
   ],
   "source": [
    "#QISKIT\n",
    "from qiskit import QuantumRegister, ClassicalRegister, QuantumCircuit\n",
    "from numpy import pi\n",
    "\n",
    "qreg_q = QuantumRegister(3, 'q')\n",
    "creg_xc = ClassicalRegister(1, 'xc')\n",
    "creg_zc = ClassicalRegister(1, 'zc')\n",
    "creg_c0 = ClassicalRegister(1, 'c0')\n",
    "circuit = QuantumCircuit(qreg_q, creg_xc, creg_zc, creg_c0)\n",
    "\n",
    "circuit.x(qreg_q[2])\n",
    "circuit.x(qreg_q[1])\n",
    "circuit.barrier(qreg_q[0], qreg_q[1], qreg_q[2])\n",
    "circuit.h(qreg_q[1])\n",
    "circuit.cx(qreg_q[1], qreg_q[2])\n",
    "circuit.cx(qreg_q[0], qreg_q[1])\n",
    "circuit.h(qreg_q[0])\n",
    "circuit.barrier(qreg_q[0], qreg_q[1], qreg_q[2])\n",
    "circuit.measure(qreg_q[0], creg_zc[0])\n",
    "circuit.measure(qreg_q[1], creg_xc[0])\n",
    "circuit.barrier(qreg_q[0], qreg_q[1], qreg_q[2])\n",
    "circuit.x(qreg_q[2]).c_if(creg_xc, 1)\n",
    "circuit.z(qreg_q[2]).c_if(creg_zc, 1)\n",
    "circuit.barrier(qreg_q[0], qreg_q[1], qreg_q[2])\n",
    "circuit.measure(qreg_q[2], creg_c0[0])"
   ]
  },
  {
   "cell_type": "code",
   "execution_count": null,
   "id": "5a3f57b4",
   "metadata": {},
   "outputs": [],
   "source": [
    "# remember to convert circuit -> quantum_circuit"
   ]
  },
  {
   "cell_type": "code",
   "execution_count": 13,
   "id": "14d11e96",
   "metadata": {},
   "outputs": [
    {
     "data": {
      "text/html": [
       "<pre style=\"word-wrap: normal;white-space: pre;background: #fff0;line-height: 1.1;font-family: &quot;Courier New&quot;,Courier,monospace\">            ░                ┌───┐ ░ ┌─┐    ░                ░    \n",
       " q_0: ──────░─────────────■──┤ H ├─░─┤M├────░────────────────░────\n",
       "      ┌───┐ ░ ┌───┐     ┌─┴─┐└───┘ ░ └╥┘┌─┐ ░                ░    \n",
       " q_1: ┤ X ├─░─┤ H ├──■──┤ X ├──────░──╫─┤M├─░────────────────░────\n",
       "      ├───┤ ░ └───┘┌─┴─┐└───┘      ░  ║ └╥┘ ░  ┌───┐  ┌───┐  ░ ┌─┐\n",
       " q_2: ┤ X ├─░──────┤ X ├───────────░──╫──╫──░──┤ X ├──┤ Z ├──░─┤M├\n",
       "      └───┘ ░      └───┘           ░  ║  ║  ░  └─╥─┘  └─╥─┘  ░ └╥┘\n",
       "                                      ║  ║    ┌──╨──┐   ║       ║ \n",
       "xc: 1/════════════════════════════════╬══╩════╡ 0x1 ╞═══╬═══════╬═\n",
       "                                      ║  0    └─────┘┌──╨──┐    ║ \n",
       "zc: 1/════════════════════════════════╩══════════════╡ 0x1 ╞════╬═\n",
       "                                      0              └─────┘    ║ \n",
       "c0: 1/══════════════════════════════════════════════════════════╩═\n",
       "                                                                0 </pre>"
      ],
      "text/plain": [
       "            ░                ┌───┐ ░ ┌─┐    ░                ░    \n",
       " q_0: ──────░─────────────■──┤ H ├─░─┤M├────░────────────────░────\n",
       "      ┌───┐ ░ ┌───┐     ┌─┴─┐└───┘ ░ └╥┘┌─┐ ░                ░    \n",
       " q_1: ┤ X ├─░─┤ H ├──■──┤ X ├──────░──╫─┤M├─░────────────────░────\n",
       "      ├───┤ ░ └───┘┌─┴─┐└───┘      ░  ║ └╥┘ ░  ┌───┐  ┌───┐  ░ ┌─┐\n",
       " q_2: ┤ X ├─░──────┤ X ├───────────░──╫──╫──░──┤ X ├──┤ Z ├──░─┤M├\n",
       "      └───┘ ░      └───┘           ░  ║  ║  ░  └─╥─┘  └─╥─┘  ░ └╥┘\n",
       "                                      ║  ║    ┌──╨──┐   ║       ║ \n",
       "xc: 1/════════════════════════════════╬══╩════╡ 0x1 ╞═══╬═══════╬═\n",
       "                                      ║  0    └─────┘┌──╨──┐    ║ \n",
       "zc: 1/════════════════════════════════╩══════════════╡ 0x1 ╞════╬═\n",
       "                                      0              └─────┘    ║ \n",
       "c0: 1/══════════════════════════════════════════════════════════╩═\n",
       "                                                                0 "
      ]
     },
     "execution_count": 13,
     "metadata": {},
     "output_type": "execute_result"
    }
   ],
   "source": [
    "circuit.draw()"
   ]
  },
  {
   "cell_type": "markdown",
   "id": "78f2154e",
   "metadata": {},
   "source": [
    "### IBM Quantum Composer output:"
   ]
  },
  {
   "cell_type": "markdown",
   "id": "62df4e21",
   "metadata": {},
   "source": [
    "|110>"
   ]
  },
  {
   "cell_type": "markdown",
   "id": "b23de0b2",
   "metadata": {},
   "source": [
    "### Aer Simulator"
   ]
  },
  {
   "cell_type": "code",
   "execution_count": 14,
   "id": "24f85fab",
   "metadata": {},
   "outputs": [
    {
     "name": "stdout",
     "output_type": "stream",
     "text": [
      "Result(backend_name='qasm_simulator', backend_version='0.11.2', qobj_id='3dfb4cbf-5f08-4c41-98a2-ae400418f924', job_id='97d1f828-2ac9-40fa-8667-8b5de82c962e', success=True, results=[ExperimentResult(shots=1024, success=True, meas_level=2, data=ExperimentResultData(counts={'0x7': 263, '0x4': 283, '0x6': 243, '0x5': 235}), header=QobjExperimentHeader(clbit_labels=[['xc', 0], ['zc', 0], ['c0', 0]], creg_sizes=[['xc', 1], ['zc', 1], ['c0', 1]], global_phase=0.0, memory_slots=3, metadata={}, n_qubits=3, name='circuit-90', qreg_sizes=[['q', 3]], qubit_labels=[['q', 0], ['q', 1], ['q', 2]]), status=DONE, seed_simulator=4219542601, metadata={'noise': 'ideal', 'batched_shots_optimization': False, 'remapped_qubits': False, 'parallel_state_update': 1, 'parallel_shots': 8, 'device': 'CPU', 'active_input_qubits': [0, 1, 2], 'measure_sampling': False, 'num_clbits': 3, 'input_qubit_map': [[2, 2], [1, 1], [0, 0]], 'num_qubits': 3, 'method': 'stabilizer', 'fusion': {'enabled': False}}, time_taken=0.037013625)], date=2023-03-02T18:21:23.917275, status=COMPLETED, header=QobjHeader(backend_name='qasm_simulator', backend_version='0.11.2'), metadata={'mpi_rank': 0, 'num_mpi_processes': 1, 'num_processes_per_experiments': 1, 'time_taken': 0.037424625, 'max_gpu_memory_mb': 0, 'time_taken_execute': 0.037066917, 'max_memory_mb': 16384, 'time_taken_load_qobj': 0.000341083, 'parallel_experiments': 1, 'omp_enabled': True}, time_taken=0.03845095634460449)\n"
     ]
    }
   ],
   "source": [
    "# As we can see, the circuit is now built according to the image. We can now measure the qubit at the quantum register.\n",
    "# For this we have two methods, AER(quantum computer simulator) and IBMQ (IBM's quantum computer)\n",
    "\n",
    "#AER\n",
    "from qiskit.providers.aer import QasmSimulator\n",
    "backend = QasmSimulator()\n",
    "job = backend.run(circuit,shots=1024)\n",
    "result = job.result()\n",
    "print(result)\n",
    "\n",
    "\n",
    "\n"
   ]
  },
  {
   "cell_type": "code",
   "execution_count": 15,
   "id": "52de6b7c",
   "metadata": {},
   "outputs": [
    {
     "data": {
      "image/png": "[encoded data removed]",
      "text/plain": [
       "<Figure size 700x500 with 1 Axes>"
      ]
     },
     "execution_count": 15,
     "metadata": {},
     "output_type": "execute_result"
    }
   ],
   "source": [
    "# We can plot a histogram to see the values\n",
    "from qiskit.visualization import plot_histogram\n",
    "counts = result.get_counts(circuit)\n",
    "plot_histogram(counts)\n"
   ]
  },
  {
   "cell_type": "code",
   "execution_count": 16,
   "id": "dc8733e2",
   "metadata": {},
   "outputs": [
    {
     "name": "stdout",
     "output_type": "stream",
     "text": [
      "{'1 1 1': 263, '1 0 0': 283, '1 1 0': 243, '1 0 1': 235}\n"
     ]
    }
   ],
   "source": [
    "# Let us see the counts\n",
    "print(counts)\n"
   ]
  },
  {
   "cell_type": "markdown",
   "id": "6180fc21",
   "metadata": {},
   "source": [
    "### IBMQ"
   ]
  },
  {
   "cell_type": "code",
   "execution_count": null,
   "id": "b763ccf9",
   "metadata": {},
   "outputs": [],
   "source": [
    "#IBMQ\n",
    "\n",
    "# Now let us see the working of this circuit on a real quantum machine.\n",
    "# Note: You need to create an IBMQ account before proceeding.\n",
    "from qiskit import *\n",
    "from qiskit import IBMQ\n",
    "\n",
    "# This step is for first time users.\n",
    "# 'IBMQ.save_account(TOKEN)'\n",
    "# For this token, visit https://quantum-computing.ibm.com/ create an account with any email id\n",
    "# and login to view the token and copy it.\n",
    "\n",
    "# This step is after you have created and saved your account.\n",
    "IBMQ.load_account()\n",
    "\n",
    "# To view all the poviders\n",
    "print([backend.name() for backend in IBMQ.providers()[0].backends()])\n",
    "\n",
    "\n",
    "\n",
    "\n",
    "# We can select any provider, but ibmq_manila will work.\n",
    "from qiskit.tools.monitor import job_monitor\n",
    "provider = IBMQ.get_provider(hub = 'ibm-q',group = 'open',project='main')\n",
    "backend = provider.get_backend('ibmq_lima')\n",
    "job = execute(circuit, backend=backend, shots=100)\n",
    "job_monitor(job)\n",
    "results = job.result()\n",
    "\n",
    "\n",
    "\n",
    "\n"
   ]
  },
  {
   "cell_type": "code",
   "execution_count": null,
   "id": "e7dda56e",
   "metadata": {},
   "outputs": [],
   "source": [
    "# Plot histogram of the outputs recieved.\n",
    "counts = results.get_counts(circuit)\n",
    "plot_histogram(counts)"
   ]
  }
 ],
 "metadata": {
  "interpreter": {
   "hash": "37a42aaa31cc67f1bd04bce9cdd9af29f0bea779c6cd9677f08a81b83d4d2488"
  },
  "kernelspec": {
   "display_name": "Python 3 (ipykernel)",
   "language": "python",
   "name": "python3"
  },
  "language_info": {
   "codemirror_mode": {
    "name": "ipython",
    "version": 3
   },
   "file_extension": ".py",
   "mimetype": "text/x-python",
   "name": "python",
   "nbconvert_exporter": "python",
   "pygments_lexer": "ipython3",
   "version": "3.9.13"
  }
 },
 "nbformat": 4,
 "nbformat_minor": 5
}
